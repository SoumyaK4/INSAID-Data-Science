{
 "cells": [
  {
   "cell_type": "markdown",
   "metadata": {
    "id": "YZ_YtlbR_PO8"
   },
   "source": [
    "<center><img src=\"https://github.com/insaid2018/Term-1/blob/master/Images/INSAID_Full%20Logo.png?raw=true\" width=\"240\" height=\"100\" /></center>"
   ]
  },
  {
   "cell_type": "markdown",
   "metadata": {},
   "source": [
    "---\n",
    "<a name = Section0></a>\n",
    "# **0. Lets Recap**\n",
    "---"
   ]
  },
  {
   "cell_type": "code",
   "execution_count": null,
   "metadata": {},
   "outputs": [],
   "source": [
    "'''\n",
    "DS\n",
    "Coding - Python\n",
    "Logic - Stats\n",
    "\n",
    "Numpy\n",
    "Pandas\n",
    "\n",
    "Vis - plt, sns, pd\n",
    "\n",
    "EDA\n",
    "1. Introduction\n",
    "2. Prob statement\n",
    "3. Libs\n",
    "4. Data Collection\n",
    "5. Pre profiling - know what to correct\n",
    "6. Pre processing - correction\n",
    "7. Trust but verify - Post profiling\n",
    "8. EDA - asking questions\n",
    "9. Conclusion\n",
    "\n",
    "\n",
    "\n",
    "'''"
   ]
  },
  {
   "cell_type": "code",
   "execution_count": null,
   "metadata": {},
   "outputs": [],
   "source": [
    "'''DATA SCIENCE culmination sessions\n",
    "\n",
    "- How to think like a data scientist?\n",
    "\n",
    "1. Mental Health Issues\n",
    "2. Retail \n",
    "\n",
    "\n",
    "'''"
   ]
  },
  {
   "cell_type": "markdown",
   "metadata": {
    "id": "fyGLcqbs_S8i"
   },
   "source": [
    "---\n",
    "# **Table of Contents**\n",
    "---\n",
    "\n",
    "**1.** [**Introduction**](#Section1)<br>\n",
    "**2.** [**Problem Statement**](#Section2)<br>\n",
    "**3.** [**Installing & Importing Libraries**](#Section3)<br>\n",
    "  - **3.1** [**Installing Libraries**](#Section31)\n",
    "  - **3.2** [**Upgrading Libraries**](#Section32)\n",
    "  - **3.3** [**Importing Libraries**](#Section33)\n",
    "\n",
    "**4.** [**Data Acquisition & Description**](#Section4)<br>\n",
    "  - **4.1** [**Data Description**](#Section41)\n",
    "  - **4.2** [**Data Information**](#Section42)\n",
    "\n",
    "**5.** [**Data Pre-processing**](#Section5)<br>\n",
    "  - **5.1** [**Handling of Missing Data**](#Section51)\n",
    "  - **5.2** [**Handling of Redundant Data**](#Section52)\n",
    "  - **5.3** [**Handling of Inconsistent Data**](#Section53)\n",
    "  - **5.4** [**Handling of Outliers**](#Section54)\n",
    "\n",
    "**6.** [**Exploratory Data Analysis**](#Section6)<br>\n",
    "  - **6.1** [**How does age relate to various behaviors and/or their awareness of their employer's attitude toward mental health?**](#Section61)\n",
    "  - **6.2** [**What is the density distribution of Age feature?**](#Section62)\n",
    "  - **6.3** [**What is the association between treatment and gender in terms of ratio?**](#Section63)\n",
    "  - **6.4** [**What is the association between treatment and work interference in terms of ratio?**](#Section64)\n",
    "  - **6.5** [**What is the association between treatment and age?**](#Section65)\n",
    "  - **6.6** [**What is the association between treatment and family history of the employee?**](#Section66)\n",
    "  - **6.7** [**What is the association between treatment and employee count in a company?**](#Section67)\n",
    "  - **6.8** [**Which countries in common have contributed the most in terms of mental health?**](#Section68)\n",
    "  - **6.9** [**Which states contributed the most in the US in terms of mental health?**](#Section69)\n",
    "  - **6.10** [**What is the contribution of top 3 countries among all in terms of mental health?**](#Section610)\n",
    "  - **6.11** [**What is the frequency distribution of work interference among employees for the top 3 countries?**](#Section611)\n",
    "  - **6.12** [**What is the total number of employees going for treatment from the top 3 countries?**](#Section612)\n",
    "  - **6.13** [**How many people did go for treatment based on gender for the top 3 countries?**](#Section613)\n",
    "  - **6.14** [**What is the relationship between mental health consequences and the attitude?**](#Section614)\n",
    "\n",
    "**7.** [**Summarization**](#Section7)<br>"
   ]
  },
  {
   "cell_type": "markdown",
   "metadata": {
    "id": "KeSCPrQkAg-J"
   },
   "source": [
    "---\n",
    "<a name = Section1></a>\n",
    "# **1. Introduction**\n",
    "---\n",
    "\n",
    "- For many of us, **work** is a **major part** of our **lives** where we spend much of our time to **make income** and **friends**. \n",
    "\n",
    "- Having a **fulfilling job** can be **good** for your **mental health** and general wellbeing.\n",
    "\n",
    "<center><img width=60% src=\"https://raw.githubusercontent.com/insaid2018/PGPDSAI/main/03%20Term%203%20-%20EDA%20%26%20Data%20Storytelling/03%20Module%203/img/03%20mental-health.jpg\"></center>\n",
    "\n",
    "- Mental health is the way we **think** and **feel** and our ability to **deal** with **ups and downs** and it is something we all have. \n",
    "\n",
    "- When we enjoy good mental health, we have a **sense of purpose** and **direction**, the energy to do the things we want to do.\n",
    "\n",
    "- If you enjoy good mental health, you can:\n",
    "  - make the most of your potential\n",
    "\n",
    "  - cope with what life throws at you\n",
    "  \n",
    "  - play a full part in your relationships, your workplace, and your community.\n",
    "\n",
    "- Your **mental health always fluctuates** as circumstances change as you move through different stages in your life.\n",
    "\n",
    "- **Distress** is a word used to describe times when a **person isn’t coping** – for whatever reason. \n",
    "\n",
    "- It could be something at home, the pressure of work, or the start of a mental health problem like depression. \n",
    "\n",
    "- When we feel distressed, we **need a compassionate**, human response."
   ]
  },
  {
   "cell_type": "markdown",
   "metadata": {
    "id": "IrkNMsXHD5xr"
   },
   "source": [
    "---\n",
    "<a name = Section2></a>\n",
    "# **2. Problem Statement**\n",
    "---\n",
    "\n",
    "- We all have times when we feel down, stressed or frightened. \n",
    "\n",
    "- Most of the time those feelings pass, but **sometimes** they develop into a mental health problem like **anxiety** or **depression**.\n",
    "\n",
    "- It **impacts our daily lives** but for some people, mental health problems become complex and **require support** and **treatment** for life.\n",
    "\n",
    "- Factors like poverty, childhood trauma, discrimination, etc. make it more likely that we will develop mental health problems.\n",
    "\n",
    "- Different mental health problems **affect** people **in different ways** and it’s **key** to **understand** an **individual’s experience**. \n",
    "\n",
    "<center><img width=60% src=\"https://raw.githubusercontent.com/insaid2018/PGPDSAI/main/03%20Term%203%20-%20EDA%20%26%20Data%20Storytelling/03%20Module%203/img/04%20mental-health.png\"></center>\n",
    "\n",
    "\n",
    "**<h4>Scenario</h4>**\n",
    "\n",
    "- <a href=\"https://osmihelp.org/\">**OSMI**</a>, an organization is working to **help people** to **identify** and **overcome mental health disorders** while working in a tech space.\n",
    "\n",
    "- They **perform surveys** to **measure attitudes** towards mental health in the tech workplace.\n",
    "\n",
    "- They **create detailed guides** on how to make the **workplace safe** and **supportive** for mentally stressed people.\n",
    "\n",
    "- Using these surveys they **examine** the **frequency** of **mental health disorders** among tech workers.\n",
    "\n",
    "- Also, they help workspaces to **identify** the **best resources** to **support** their **employees**.\n",
    "\n",
    "- Checkout <a href=\"https://www.youtube.com/watch?v=NHulgcO_16U&list=PL1MEC8mwrpaIdzYKRidvNB5eYSwWrqFZ3\">**Talks at Google**</a> to get better clarity about Mental Health in the Tech Industry.\n"
   ]
  },
  {
   "cell_type": "markdown",
   "metadata": {
    "id": "oZ7oRdaU5Izk"
   },
   "source": [
    "---\n",
    "<a name = Section3></a>\n",
    "# **3. Installing & Importing Libraries**\n",
    "---"
   ]
  },
  {
   "cell_type": "markdown",
   "metadata": {
    "id": "CxrjUfOi5Kor"
   },
   "source": [
    "<a name = Section31></a>\n",
    "### **3.1 Installing Libraries**"
   ]
  },
  {
   "cell_type": "code",
   "execution_count": null,
   "metadata": {
    "colab": {
     "base_uri": "https://localhost:8080/"
    },
    "executionInfo": {
     "elapsed": 7638,
     "status": "ok",
     "timestamp": 1619584656509,
     "user": {
      "displayName": "Mukesh Kumar",
      "photoUrl": "https://lh3.googleusercontent.com/a-/AOh14GjTZH-ccUwdv--s75Iw1qfyi7gtUyH2m_-htD2e=s64",
      "userId": "01238672520445611335"
     },
     "user_tz": -330
    },
    "id": "G64l-tpL_G6c",
    "outputId": "65670e1e-23d4-43dd-abed-017e6d669ab4",
    "scrolled": true
   },
   "outputs": [
    {
     "name": "stdout",
     "output_type": "stream",
     "text": [
      "\u001b[K     |████████████████████████████████| 71kB 6.6MB/s \n",
      "\u001b[?25h  Building wheel for folium (setup.py) ... \u001b[?25l\u001b[?25hdone\n"
     ]
    }
   ],
   "source": [
    "!pip install -q datascience                                         # Package that is required by pandas profiling\n",
    "!pip install -q pandas-profiling                                    # Library to generate basic statistics about data"
   ]
  },
  {
   "cell_type": "markdown",
   "metadata": {
    "id": "RQ7MRLAo5N1V"
   },
   "source": [
    "<a name = Section32></a>\n",
    "### **3.2 Upgrading Libraries**\n",
    "\n",
    "- **After upgrading** the libraries, you need to **restart the runtime** to make the libraries in sync. \n",
    "\n",
    "- Make sure not to execute the cell above (3.1) and below (3.2) again after restarting the runtime."
   ]
  },
  {
   "cell_type": "code",
   "execution_count": null,
   "metadata": {
    "id": "B-Fik6Ur5Nu7"
   },
   "outputs": [],
   "source": [
    "!pip install -q --upgrade pandas-profiling\n",
    "!pip install -q --upgrade yellowbrick"
   ]
  },
  {
   "cell_type": "markdown",
   "metadata": {
    "id": "4K_1imiv5Rn1"
   },
   "source": [
    "<a name = Section33></a>\n",
    "### **3.3 Importing Libraries**"
   ]
  },
  {
   "cell_type": "code",
   "execution_count": 1,
   "metadata": {
    "id": "IpUbSK3u5RgT"
   },
   "outputs": [],
   "source": [
    "import numpy as np\n",
    "#-------------------------------------------------------------------------------------------------------------------------------\n",
    "import pandas as pd                                                 # Importing for panel data analysis\n",
    "pd.set_option('display.max_columns', None)                          # Unfolding hidden features if the cardinality is high\n",
    "pd.set_option('display.max_colwidth', None)                         # Unfolding the max feature width for better clearity\n",
    "pd.set_option('display.max_rows', None)                             # Unfolding hidden data points if the cardinality is high\n",
    "pd.set_option('mode.chained_assignment', None)                      # Removing restriction over chained assignments operations\n",
    "pd.set_option('display.float_format', lambda x: '%.2f' % x)         # To suppress scientific notation over exponential values\n",
    "#-------------------------------------------------------------------------------------------------------------------------------\n",
    "import matplotlib.pyplot as plt                                     # Importing pyplot interface using matplotlib\n",
    "\n",
    "import seaborn as sns                                               # Importin seaborm library for interactive visualization\n",
    "%matplotlib inline\n",
    "#-------------------------------------------------------------------------------------------------------------------------------\n",
    "\n",
    "import warnings                                                     # Importing warning to disable runtime warnings\n",
    "warnings.filterwarnings(\"ignore\")                                   # Warnings will appear only once"
   ]
  },
  {
   "cell_type": "markdown",
   "metadata": {
    "id": "l6GsdyVG5Zdd"
   },
   "source": [
    "---\n",
    "<a name = Section4></a>\n",
    "# **4. Data Acquisition & Description**\n",
    "---\n",
    "\n",
    "- This dataset is obtained from a survey in 2014.\n",
    "\n",
    "- It describes the attitudes towards mental health and frequency of mental health disorders in the tech workplace.\n",
    "\n",
    "| Records | Features | Dataset Size |\n",
    "| :-- | :-- | :-- |\n",
    "| 1259 | 27 | 296 KB| \n",
    "\n",
    "\n",
    "| Id | Features | Description |\n",
    "| :-- | :--| :--| \n",
    "|01|**Timestamp**|Time the survey was submitted.|\n",
    "|02|**Age**|The age of the person.| \n",
    "|03|**Gender**|The gender of the person.|\n",
    "|04|**Country**|The country name where person belongs to.|\n",
    "|05|**state**|The state name where person belongs to.|\n",
    "|06|**self_employed**|Is the person self employed or not.|\n",
    "|07|**family_history**|Does the person's family history had mental illness or not?|\n",
    "|08|**treatment**|Have you sought treatment for a mental health condition?|\n",
    "|09|**work_intefere**|If you have a mental health condition, do you feel that it interferes with your work?|\n",
    "|10|**no_employees**|How many employees does your company or organization have?|\n",
    "|11|**remote_work**|Do you work remotely (outside of an office) at least 50% of the time?|\n",
    "|12|**tech_company**|Is your employer primarily a tech company/organization?|\n",
    "|13|**benifits**|Does your employer provide mental health benefits?|\n",
    "|14|**care_options**|Do you know the options for mental health care your employer provides?|\n",
    "|15|**wellness_program**|Has your employer ever discussed mental health as part of an employee wellness program?|\n",
    "|16|**seek_help**|Does your employer provide resources to learn more about mental health issues and how to seek help?|\n",
    "|17|**anonymity**|Is your anonymity protected if you choose to take advantage of mental health or substance abuse treatment resources?|\n",
    "|18|**leave**|How easy is it for you to take medical leave for a mental health condition?|\n",
    "|19|**mental_health_consequence**|Do you think that discussing a mental health issue with your employer would have negative consequences?|\n",
    "|20|**phy_health_consequence**|Do you think that discussing a physical health issue with your employer would have negative consequences?|\n",
    "|21|**coworkers**|Would you be willing to discuss a mental health issue with your coworkers?|\n",
    "|22|**supervisor**|Would you be willing to discuss a mental health issue with your direct supervisor(s)?|\n",
    "|23|**mental_health_interview**|Would you bring up a mental health issue with a potential employer in an interview?|\n",
    "|24|**phs_health_interivew**|Would you bring up a physical health issue with a potential employer in an interview?|\n",
    "|25|**mental_vs_physical**|Do you feel that your employer takes mental health as seriously as physical health?|\n",
    "|26|**obs_consequence**|Have you heard of or observed negative consequences for coworkers with mental health conditions in your workplace?|\n",
    "|27|**comments**|Any additional notes or comments.|"
   ]
  },
  {
   "cell_type": "markdown",
   "metadata": {
    "id": "zdybBkZwks_M"
   },
   "source": [
    "- **Note:** For easy reference we are sharing a <a href=\"https://drive.google.com/file/d/1II3r6-z2C-JkP7RGrnsNFLq3lbziMmpT/view?usp=sharing\">**link**</a> which you can keep handy while analyzing the data."
   ]
  },
  {
   "cell_type": "code",
   "execution_count": 32,
   "metadata": {
    "colab": {
     "base_uri": "https://localhost:8080/",
     "height": 411
    },
    "executionInfo": {
     "elapsed": 1814,
     "status": "ok",
     "timestamp": 1620112243302,
     "user": {
      "displayName": "Mukesh Kumar",
      "photoUrl": "https://lh3.googleusercontent.com/a-/AOh14GjTZH-ccUwdv--s75Iw1qfyi7gtUyH2m_-htD2e=s64",
      "userId": "01238672520445611335"
     },
     "user_tz": -330
    },
    "id": "eU8BRBJZ5ZW0",
    "outputId": "a57f32e8-6ce7-4751-d253-b55aeb1bce4b"
   },
   "outputs": [
    {
     "name": "stdout",
     "output_type": "stream",
     "text": [
      "Data Shape: (1259, 27)\n"
     ]
    },
    {
     "data": {
      "text/html": [
       "<div>\n",
       "<style scoped>\n",
       "    .dataframe tbody tr th:only-of-type {\n",
       "        vertical-align: middle;\n",
       "    }\n",
       "\n",
       "    .dataframe tbody tr th {\n",
       "        vertical-align: top;\n",
       "    }\n",
       "\n",
       "    .dataframe thead th {\n",
       "        text-align: right;\n",
       "    }\n",
       "</style>\n",
       "<table border=\"1\" class=\"dataframe\">\n",
       "  <thead>\n",
       "    <tr style=\"text-align: right;\">\n",
       "      <th></th>\n",
       "      <th>Timestamp</th>\n",
       "      <th>Age</th>\n",
       "      <th>Gender</th>\n",
       "      <th>Country</th>\n",
       "      <th>state</th>\n",
       "      <th>self_employed</th>\n",
       "      <th>family_history</th>\n",
       "      <th>treatment</th>\n",
       "      <th>work_interfere</th>\n",
       "      <th>no_employees</th>\n",
       "      <th>remote_work</th>\n",
       "      <th>tech_company</th>\n",
       "      <th>benefits</th>\n",
       "      <th>care_options</th>\n",
       "      <th>wellness_program</th>\n",
       "      <th>seek_help</th>\n",
       "      <th>anonymity</th>\n",
       "      <th>leave</th>\n",
       "      <th>mental_health_consequence</th>\n",
       "      <th>phys_health_consequence</th>\n",
       "      <th>coworkers</th>\n",
       "      <th>supervisor</th>\n",
       "      <th>mental_health_interview</th>\n",
       "      <th>phys_health_interview</th>\n",
       "      <th>mental_vs_physical</th>\n",
       "      <th>obs_consequence</th>\n",
       "      <th>comments</th>\n",
       "    </tr>\n",
       "  </thead>\n",
       "  <tbody>\n",
       "    <tr>\n",
       "      <th>0</th>\n",
       "      <td>2014-08-27 11:29:31</td>\n",
       "      <td>37</td>\n",
       "      <td>Female</td>\n",
       "      <td>United States</td>\n",
       "      <td>IL</td>\n",
       "      <td>NaN</td>\n",
       "      <td>No</td>\n",
       "      <td>Yes</td>\n",
       "      <td>Often</td>\n",
       "      <td>6-25</td>\n",
       "      <td>No</td>\n",
       "      <td>Yes</td>\n",
       "      <td>Yes</td>\n",
       "      <td>Not sure</td>\n",
       "      <td>No</td>\n",
       "      <td>Yes</td>\n",
       "      <td>Yes</td>\n",
       "      <td>Somewhat easy</td>\n",
       "      <td>No</td>\n",
       "      <td>No</td>\n",
       "      <td>Some of them</td>\n",
       "      <td>Yes</td>\n",
       "      <td>No</td>\n",
       "      <td>Maybe</td>\n",
       "      <td>Yes</td>\n",
       "      <td>No</td>\n",
       "      <td>NaN</td>\n",
       "    </tr>\n",
       "    <tr>\n",
       "      <th>1</th>\n",
       "      <td>2014-08-27 11:29:37</td>\n",
       "      <td>44</td>\n",
       "      <td>M</td>\n",
       "      <td>United States</td>\n",
       "      <td>IN</td>\n",
       "      <td>NaN</td>\n",
       "      <td>No</td>\n",
       "      <td>No</td>\n",
       "      <td>Rarely</td>\n",
       "      <td>More than 1000</td>\n",
       "      <td>No</td>\n",
       "      <td>No</td>\n",
       "      <td>Don't know</td>\n",
       "      <td>No</td>\n",
       "      <td>Don't know</td>\n",
       "      <td>Don't know</td>\n",
       "      <td>Don't know</td>\n",
       "      <td>Don't know</td>\n",
       "      <td>Maybe</td>\n",
       "      <td>No</td>\n",
       "      <td>No</td>\n",
       "      <td>No</td>\n",
       "      <td>No</td>\n",
       "      <td>No</td>\n",
       "      <td>Don't know</td>\n",
       "      <td>No</td>\n",
       "      <td>NaN</td>\n",
       "    </tr>\n",
       "    <tr>\n",
       "      <th>2</th>\n",
       "      <td>2014-08-27 11:29:44</td>\n",
       "      <td>32</td>\n",
       "      <td>Male</td>\n",
       "      <td>Canada</td>\n",
       "      <td>NaN</td>\n",
       "      <td>NaN</td>\n",
       "      <td>No</td>\n",
       "      <td>No</td>\n",
       "      <td>Rarely</td>\n",
       "      <td>6-25</td>\n",
       "      <td>No</td>\n",
       "      <td>Yes</td>\n",
       "      <td>No</td>\n",
       "      <td>No</td>\n",
       "      <td>No</td>\n",
       "      <td>No</td>\n",
       "      <td>Don't know</td>\n",
       "      <td>Somewhat difficult</td>\n",
       "      <td>No</td>\n",
       "      <td>No</td>\n",
       "      <td>Yes</td>\n",
       "      <td>Yes</td>\n",
       "      <td>Yes</td>\n",
       "      <td>Yes</td>\n",
       "      <td>No</td>\n",
       "      <td>No</td>\n",
       "      <td>NaN</td>\n",
       "    </tr>\n",
       "    <tr>\n",
       "      <th>3</th>\n",
       "      <td>2014-08-27 11:29:46</td>\n",
       "      <td>31</td>\n",
       "      <td>Male</td>\n",
       "      <td>United Kingdom</td>\n",
       "      <td>NaN</td>\n",
       "      <td>NaN</td>\n",
       "      <td>Yes</td>\n",
       "      <td>Yes</td>\n",
       "      <td>Often</td>\n",
       "      <td>26-100</td>\n",
       "      <td>No</td>\n",
       "      <td>Yes</td>\n",
       "      <td>No</td>\n",
       "      <td>Yes</td>\n",
       "      <td>No</td>\n",
       "      <td>No</td>\n",
       "      <td>No</td>\n",
       "      <td>Somewhat difficult</td>\n",
       "      <td>Yes</td>\n",
       "      <td>Yes</td>\n",
       "      <td>Some of them</td>\n",
       "      <td>No</td>\n",
       "      <td>Maybe</td>\n",
       "      <td>Maybe</td>\n",
       "      <td>No</td>\n",
       "      <td>Yes</td>\n",
       "      <td>NaN</td>\n",
       "    </tr>\n",
       "    <tr>\n",
       "      <th>4</th>\n",
       "      <td>2014-08-27 11:30:22</td>\n",
       "      <td>31</td>\n",
       "      <td>Male</td>\n",
       "      <td>United States</td>\n",
       "      <td>TX</td>\n",
       "      <td>NaN</td>\n",
       "      <td>No</td>\n",
       "      <td>No</td>\n",
       "      <td>Never</td>\n",
       "      <td>100-500</td>\n",
       "      <td>Yes</td>\n",
       "      <td>Yes</td>\n",
       "      <td>Yes</td>\n",
       "      <td>No</td>\n",
       "      <td>Don't know</td>\n",
       "      <td>Don't know</td>\n",
       "      <td>Don't know</td>\n",
       "      <td>Don't know</td>\n",
       "      <td>No</td>\n",
       "      <td>No</td>\n",
       "      <td>Some of them</td>\n",
       "      <td>Yes</td>\n",
       "      <td>Yes</td>\n",
       "      <td>Yes</td>\n",
       "      <td>Don't know</td>\n",
       "      <td>No</td>\n",
       "      <td>NaN</td>\n",
       "    </tr>\n",
       "  </tbody>\n",
       "</table>\n",
       "</div>"
      ],
      "text/plain": [
       "             Timestamp  Age  Gender         Country state self_employed  \\\n",
       "0  2014-08-27 11:29:31   37  Female   United States    IL           NaN   \n",
       "1  2014-08-27 11:29:37   44       M   United States    IN           NaN   \n",
       "2  2014-08-27 11:29:44   32    Male          Canada   NaN           NaN   \n",
       "3  2014-08-27 11:29:46   31    Male  United Kingdom   NaN           NaN   \n",
       "4  2014-08-27 11:30:22   31    Male   United States    TX           NaN   \n",
       "\n",
       "  family_history treatment work_interfere    no_employees remote_work  \\\n",
       "0             No       Yes          Often            6-25          No   \n",
       "1             No        No         Rarely  More than 1000          No   \n",
       "2             No        No         Rarely            6-25          No   \n",
       "3            Yes       Yes          Often          26-100          No   \n",
       "4             No        No          Never         100-500         Yes   \n",
       "\n",
       "  tech_company    benefits care_options wellness_program   seek_help  \\\n",
       "0          Yes         Yes     Not sure               No         Yes   \n",
       "1           No  Don't know           No       Don't know  Don't know   \n",
       "2          Yes          No           No               No          No   \n",
       "3          Yes          No          Yes               No          No   \n",
       "4          Yes         Yes           No       Don't know  Don't know   \n",
       "\n",
       "    anonymity               leave mental_health_consequence  \\\n",
       "0         Yes       Somewhat easy                        No   \n",
       "1  Don't know          Don't know                     Maybe   \n",
       "2  Don't know  Somewhat difficult                        No   \n",
       "3          No  Somewhat difficult                       Yes   \n",
       "4  Don't know          Don't know                        No   \n",
       "\n",
       "  phys_health_consequence     coworkers supervisor mental_health_interview  \\\n",
       "0                      No  Some of them        Yes                      No   \n",
       "1                      No            No         No                      No   \n",
       "2                      No           Yes        Yes                     Yes   \n",
       "3                     Yes  Some of them         No                   Maybe   \n",
       "4                      No  Some of them        Yes                     Yes   \n",
       "\n",
       "  phys_health_interview mental_vs_physical obs_consequence comments  \n",
       "0                 Maybe                Yes              No      NaN  \n",
       "1                    No         Don't know              No      NaN  \n",
       "2                   Yes                 No              No      NaN  \n",
       "3                 Maybe                 No             Yes      NaN  \n",
       "4                   Yes         Don't know              No      NaN  "
      ]
     },
     "execution_count": 32,
     "metadata": {},
     "output_type": "execute_result"
    }
   ],
   "source": [
    "MH = pd.read_csv(filepath_or_buffer='https://raw.githubusercontent.com/insaid2018/Term-1/master/Data/Casestudy/survey.csv')\n",
    "print('Data Shape:', MH.shape)\n",
    "MH.head()"
   ]
  },
  {
   "cell_type": "markdown",
   "metadata": {
    "id": "IoV6bufp5k7L"
   },
   "source": [
    "<a name = Section41></a>\n",
    "### **4.1 Data Description**\n",
    "\n",
    "- In this section we will get **information about the data** and see some observations."
   ]
  },
  {
   "cell_type": "code",
   "execution_count": 33,
   "metadata": {},
   "outputs": [
    {
     "name": "stdout",
     "output_type": "stream",
     "text": [
      "<class 'pandas.core.frame.DataFrame'>\n",
      "RangeIndex: 1259 entries, 0 to 1258\n",
      "Data columns (total 27 columns):\n",
      " #   Column                     Non-Null Count  Dtype \n",
      "---  ------                     --------------  ----- \n",
      " 0   Timestamp                  1259 non-null   object\n",
      " 1   Age                        1259 non-null   int64 \n",
      " 2   Gender                     1259 non-null   object\n",
      " 3   Country                    1259 non-null   object\n",
      " 4   state                      744 non-null    object\n",
      " 5   self_employed              1241 non-null   object\n",
      " 6   family_history             1259 non-null   object\n",
      " 7   treatment                  1259 non-null   object\n",
      " 8   work_interfere             995 non-null    object\n",
      " 9   no_employees               1259 non-null   object\n",
      " 10  remote_work                1259 non-null   object\n",
      " 11  tech_company               1259 non-null   object\n",
      " 12  benefits                   1259 non-null   object\n",
      " 13  care_options               1259 non-null   object\n",
      " 14  wellness_program           1259 non-null   object\n",
      " 15  seek_help                  1259 non-null   object\n",
      " 16  anonymity                  1259 non-null   object\n",
      " 17  leave                      1259 non-null   object\n",
      " 18  mental_health_consequence  1259 non-null   object\n",
      " 19  phys_health_consequence    1259 non-null   object\n",
      " 20  coworkers                  1259 non-null   object\n",
      " 21  supervisor                 1259 non-null   object\n",
      " 22  mental_health_interview    1259 non-null   object\n",
      " 23  phys_health_interview      1259 non-null   object\n",
      " 24  mental_vs_physical         1259 non-null   object\n",
      " 25  obs_consequence            1259 non-null   object\n",
      " 26  comments                   164 non-null    object\n",
      "dtypes: int64(1), object(26)\n",
      "memory usage: 265.7+ KB\n"
     ]
    }
   ],
   "source": [
    "MH.info()"
   ]
  },
  {
   "cell_type": "code",
   "execution_count": null,
   "metadata": {},
   "outputs": [],
   "source": [
    "'''\n",
    "1. there are some missing values\n",
    "2. convert timestamp to datetime\n",
    "'''"
   ]
  },
  {
   "cell_type": "code",
   "execution_count": 34,
   "metadata": {},
   "outputs": [
    {
     "data": {
      "text/html": [
       "<div>\n",
       "<style scoped>\n",
       "    .dataframe tbody tr th:only-of-type {\n",
       "        vertical-align: middle;\n",
       "    }\n",
       "\n",
       "    .dataframe tbody tr th {\n",
       "        vertical-align: top;\n",
       "    }\n",
       "\n",
       "    .dataframe thead th {\n",
       "        text-align: right;\n",
       "    }\n",
       "</style>\n",
       "<table border=\"1\" class=\"dataframe\">\n",
       "  <thead>\n",
       "    <tr style=\"text-align: right;\">\n",
       "      <th></th>\n",
       "      <th>Age</th>\n",
       "    </tr>\n",
       "  </thead>\n",
       "  <tbody>\n",
       "    <tr>\n",
       "      <th>count</th>\n",
       "      <td>1259.00</td>\n",
       "    </tr>\n",
       "    <tr>\n",
       "      <th>mean</th>\n",
       "      <td>79428148.31</td>\n",
       "    </tr>\n",
       "    <tr>\n",
       "      <th>std</th>\n",
       "      <td>2818299442.98</td>\n",
       "    </tr>\n",
       "    <tr>\n",
       "      <th>min</th>\n",
       "      <td>-1726.00</td>\n",
       "    </tr>\n",
       "    <tr>\n",
       "      <th>25%</th>\n",
       "      <td>27.00</td>\n",
       "    </tr>\n",
       "    <tr>\n",
       "      <th>50%</th>\n",
       "      <td>31.00</td>\n",
       "    </tr>\n",
       "    <tr>\n",
       "      <th>75%</th>\n",
       "      <td>36.00</td>\n",
       "    </tr>\n",
       "    <tr>\n",
       "      <th>max</th>\n",
       "      <td>99999999999.00</td>\n",
       "    </tr>\n",
       "  </tbody>\n",
       "</table>\n",
       "</div>"
      ],
      "text/plain": [
       "                 Age\n",
       "count        1259.00\n",
       "mean     79428148.31\n",
       "std    2818299442.98\n",
       "min         -1726.00\n",
       "25%            27.00\n",
       "50%            31.00\n",
       "75%            36.00\n",
       "max   99999999999.00"
      ]
     },
     "execution_count": 34,
     "metadata": {},
     "output_type": "execute_result"
    }
   ],
   "source": [
    "MH.describe()"
   ]
  },
  {
   "cell_type": "code",
   "execution_count": null,
   "metadata": {},
   "outputs": [],
   "source": [
    "'''\n",
    "1. there are some missing values\n",
    "2. convert timestamp to datetime\n",
    "1. treat all WRONG valus as missing - replace with median\n",
    "'''"
   ]
  },
  {
   "cell_type": "code",
   "execution_count": 35,
   "metadata": {},
   "outputs": [
    {
     "data": {
      "text/plain": [
       "Timestamp                    1246\n",
       "Age                            53\n",
       "Gender                         49\n",
       "Country                        48\n",
       "state                          45\n",
       "self_employed                   2\n",
       "family_history                  2\n",
       "treatment                       2\n",
       "work_interfere                  4\n",
       "no_employees                    6\n",
       "remote_work                     2\n",
       "tech_company                    2\n",
       "benefits                        3\n",
       "care_options                    3\n",
       "wellness_program                3\n",
       "seek_help                       3\n",
       "anonymity                       3\n",
       "leave                           5\n",
       "mental_health_consequence       3\n",
       "phys_health_consequence         3\n",
       "coworkers                       3\n",
       "supervisor                      3\n",
       "mental_health_interview         3\n",
       "phys_health_interview           3\n",
       "mental_vs_physical              3\n",
       "obs_consequence                 2\n",
       "comments                      160\n",
       "dtype: int64"
      ]
     },
     "execution_count": 35,
     "metadata": {},
     "output_type": "execute_result"
    }
   ],
   "source": [
    "MH.nunique()"
   ]
  },
  {
   "cell_type": "code",
   "execution_count": 7,
   "metadata": {},
   "outputs": [
    {
     "data": {
      "text/plain": [
       "'\\n1. Gender should not have these many options - make them into 3\\n2. Delete Comments\\n'"
      ]
     },
     "execution_count": 7,
     "metadata": {},
     "output_type": "execute_result"
    }
   ],
   "source": [
    "'''\n",
    "1. there are some missing values\n",
    "2. convert timestamp to datetime\n",
    "1. treat all WRONG valus as missing - replace with median\n",
    "1. Gender should not have these many options - make them into 3\n",
    "2. Delete Comments\n",
    "'''"
   ]
  },
  {
   "cell_type": "markdown",
   "metadata": {
    "id": "-iTS8gi3vj51"
   },
   "source": [
    "**Observations:**\n",
    "\n",
    "- The **average age** of the person is found to be **79428148 years** and it is **absurd**.\n",
    "\n",
    "- Around **25%** of people have an **age** less than or equal to **27 years**.\n",
    "\n",
    "- Around **50%** of people have an **age** less than or equal to **31 years**.\n",
    "\n",
    "- Around **75%** of people have an **age** less than or equal to **36 years**.\n",
    "\n",
    "- The **minimum** and **maximum ages** are found to be **negative** and **very large numbers**.\n",
    "\n",
    "- It implies that there is **something wrong** with our **data**."
   ]
  },
  {
   "cell_type": "markdown",
   "metadata": {
    "id": "biqeRhFM5qSW"
   },
   "source": [
    "<a name = Section42></a>\n",
    "### **4.2 Data Information**\n",
    "\n",
    "- In this section we will see the **information about the types of features**."
   ]
  },
  {
   "cell_type": "code",
   "execution_count": null,
   "metadata": {},
   "outputs": [],
   "source": []
  },
  {
   "cell_type": "markdown",
   "metadata": {
    "id": "lfuJ00mWwkHq"
   },
   "source": [
    "**Observations:**\n",
    "\n",
    "- At high level, we can observe that there are **missing data** in our dataset.\n",
    "\n",
    "- The **timestamp** is found to have **inconsistent data type**, requires rectification."
   ]
  },
  {
   "cell_type": "markdown",
   "metadata": {
    "id": "s25rWFCO5vmb"
   },
   "source": [
    "<a name = Section5></a>\n",
    "\n",
    "---\n",
    "# **5. Data Pre-Processing (Step 5 6 and 7 in loop)**\n",
    "---"
   ]
  },
  {
   "cell_type": "code",
   "execution_count": null,
   "metadata": {},
   "outputs": [],
   "source": [
    "'''\n",
    "1. there are some missing values - DONE\n",
    "2. convert timestamp to datetime - DONE\n",
    "3. treat all WRONG valus in Age as missing - replace with median\n",
    "4. Gender should not have these many options - make them into 3\n",
    "5. Delete Comments - DONE\n",
    "6. Check for duplicates and delete if needed. - DONE\n",
    "'''"
   ]
  },
  {
   "cell_type": "markdown",
   "metadata": {
    "id": "bOPDAA_Ny33-"
   },
   "source": [
    "<a name = Section51></a>\n",
    "### **5.1 Handling of Missing Data**\n",
    "\n",
    "- In this section, we will identify missing data and check the proportion of it and take appropriate measures."
   ]
  },
  {
   "cell_type": "code",
   "execution_count": 36,
   "metadata": {},
   "outputs": [
    {
     "data": {
      "text/plain": [
       "Timestamp                    0.00\n",
       "Age                          0.00\n",
       "Gender                       0.00\n",
       "Country                      0.00\n",
       "state                       40.91\n",
       "self_employed                1.43\n",
       "family_history               0.00\n",
       "treatment                    0.00\n",
       "work_interfere              20.97\n",
       "no_employees                 0.00\n",
       "remote_work                  0.00\n",
       "tech_company                 0.00\n",
       "benefits                     0.00\n",
       "care_options                 0.00\n",
       "wellness_program             0.00\n",
       "seek_help                    0.00\n",
       "anonymity                    0.00\n",
       "leave                        0.00\n",
       "mental_health_consequence    0.00\n",
       "phys_health_consequence      0.00\n",
       "coworkers                    0.00\n",
       "supervisor                   0.00\n",
       "mental_health_interview      0.00\n",
       "phys_health_interview        0.00\n",
       "mental_vs_physical           0.00\n",
       "obs_consequence              0.00\n",
       "comments                    86.97\n",
       "dtype: float64"
      ]
     },
     "execution_count": 36,
     "metadata": {},
     "output_type": "execute_result"
    }
   ],
   "source": [
    "100*(MH.shape[0] - MH.count())/MH.shape[0]"
   ]
  },
  {
   "cell_type": "code",
   "execution_count": 7,
   "metadata": {},
   "outputs": [
    {
     "data": {
      "text/plain": [
       "'Missing values\\n1. State - fill in the country name\\n2. Self employed - fill in with mode\\n3. work interfere - mode\\n4. Comments - drop\\n'"
      ]
     },
     "execution_count": 7,
     "metadata": {},
     "output_type": "execute_result"
    }
   ],
   "source": [
    "'''Missing values\n",
    "1. State - fill in the country name\n",
    "2. Self employed - fill in with mode\n",
    "3. work interfere - mode\n",
    "4. Comments - drop\n",
    "'''"
   ]
  },
  {
   "cell_type": "markdown",
   "metadata": {
    "id": "WeBpq1fW0hml"
   },
   "source": [
    "**Observations:**\n",
    "\n",
    "- We can observe that following features are found to have missing values along with the proportions:\n",
    "\n",
    "|Feature|Object Type|Missing Proportion|Solution|\n",
    "|:--:|:--:|:--:|:--|\n",
    "|state|Object|40%|Replace with mode.|\n",
    "|self_employed|Object|1.43%|Replace with mode.|\n",
    "|work_interfere|Object|20.97%|Replace with mode.|\n",
    "|comments|Object|86.97%|Drop the feature.|"
   ]
  },
  {
   "cell_type": "markdown",
   "metadata": {
    "id": "pYaswQWO3IZD"
   },
   "source": [
    "**Correction for Missing Values**"
   ]
  },
  {
   "cell_type": "code",
   "execution_count": 37,
   "metadata": {},
   "outputs": [
    {
     "data": {
      "text/plain": [
       "Index(['Timestamp', 'Age', 'Gender', 'Country', 'state', 'self_employed',\n",
       "       'family_history', 'treatment', 'work_interfere', 'no_employees',\n",
       "       'remote_work', 'tech_company', 'benefits', 'care_options',\n",
       "       'wellness_program', 'seek_help', 'anonymity', 'leave',\n",
       "       'mental_health_consequence', 'phys_health_consequence', 'coworkers',\n",
       "       'supervisor', 'mental_health_interview', 'phys_health_interview',\n",
       "       'mental_vs_physical', 'obs_consequence', 'comments'],\n",
       "      dtype='object')"
      ]
     },
     "execution_count": 37,
     "metadata": {},
     "output_type": "execute_result"
    }
   ],
   "source": [
    "MH.columns"
   ]
  },
  {
   "cell_type": "code",
   "execution_count": 38,
   "metadata": {},
   "outputs": [],
   "source": [
    "MH.drop('comments', axis = 1, inplace = True)"
   ]
  },
  {
   "cell_type": "code",
   "execution_count": 39,
   "metadata": {},
   "outputs": [
    {
     "data": {
      "text/plain": [
       "0    No\n",
       "dtype: object"
      ]
     },
     "execution_count": 39,
     "metadata": {},
     "output_type": "execute_result"
    }
   ],
   "source": [
    "MH['self_employed'].mode()"
   ]
  },
  {
   "cell_type": "code",
   "execution_count": 40,
   "metadata": {},
   "outputs": [],
   "source": [
    "MH['self_employed'] = MH['self_employed'].fillna(MH['self_employed'].mode()[0])\n",
    "MH['work_interfere'] = MH['work_interfere'].fillna(MH['work_interfere'].mode()[0])"
   ]
  },
  {
   "cell_type": "code",
   "execution_count": 41,
   "metadata": {},
   "outputs": [],
   "source": [
    "MH['state'] = MH['state'].fillna(MH['Country'])"
   ]
  },
  {
   "cell_type": "code",
   "execution_count": 13,
   "metadata": {
    "collapsed": true
   },
   "outputs": [
    {
     "data": {
      "text/plain": [
       "United Kingdom            185\n",
       "CA                        138\n",
       "Canada                     72\n",
       "WA                         70\n",
       "NY                         57\n",
       "Germany                    45\n",
       "TN                         45\n",
       "TX                         44\n",
       "OH                         30\n",
       "PA                         29\n",
       "IL                         29\n",
       "OR                         29\n",
       "Netherlands                27\n",
       "IN                         27\n",
       "Ireland                    27\n",
       "MI                         22\n",
       "MN                         21\n",
       "Australia                  21\n",
       "MA                         20\n",
       "FL                         15\n",
       "NC                         14\n",
       "VA                         14\n",
       "France                     13\n",
       "GA                         12\n",
       "MO                         12\n",
       "WI                         12\n",
       "UT                         11\n",
       "United States              11\n",
       "India                      10\n",
       "CO                          9\n",
       "New Zealand                 8\n",
       "AL                          8\n",
       "MD                          8\n",
       "Poland                      7\n",
       "Sweden                      7\n",
       "Italy                       7\n",
       "Switzerland                 7\n",
       "AZ                          7\n",
       "OK                          6\n",
       "South Africa                6\n",
       "Brazil                      6\n",
       "Belgium                     6\n",
       "NJ                          6\n",
       "KY                          5\n",
       "SC                          5\n",
       "DC                          4\n",
       "Israel                      4\n",
       "IA                          4\n",
       "CT                          4\n",
       "Singapore                   4\n",
       "Austria                     3\n",
       "VT                          3\n",
       "Bulgaria                    3\n",
       "NV                          3\n",
       "Mexico                      3\n",
       "KS                          3\n",
       "NH                          3\n",
       "Russia                      3\n",
       "SD                          3\n",
       "Finland                     3\n",
       "Greece                      2\n",
       "NM                          2\n",
       "WY                          2\n",
       "Colombia                    2\n",
       "Croatia                     2\n",
       "Portugal                    2\n",
       "Denmark                     2\n",
       "NE                          2\n",
       "WV                          1\n",
       "Spain                       1\n",
       "ME                          1\n",
       "Japan                       1\n",
       "Moldova                     1\n",
       "Philippines                 1\n",
       "Romania                     1\n",
       "ID                          1\n",
       "Georgia                     1\n",
       "Nigeria                     1\n",
       "Norway                      1\n",
       "Slovenia                    1\n",
       "Hungary                     1\n",
       "Zimbabwe                    1\n",
       "Costa Rica                  1\n",
       "China                       1\n",
       "RI                          1\n",
       "Czech Republic              1\n",
       "Bosnia and Herzegovina      1\n",
       "LA                          1\n",
       "Thailand                    1\n",
       "MS                          1\n",
       "Uruguay                     1\n",
       "Name: state, dtype: int64"
      ]
     },
     "execution_count": 13,
     "metadata": {},
     "output_type": "execute_result"
    }
   ],
   "source": [
    "MH['state'].value_counts()"
   ]
  },
  {
   "cell_type": "markdown",
   "metadata": {
    "id": "-vFDK0RP81qr"
   },
   "source": [
    "#### Let's verify"
   ]
  },
  {
   "cell_type": "code",
   "execution_count": 42,
   "metadata": {},
   "outputs": [
    {
     "data": {
      "text/plain": [
       "Timestamp                   0.00\n",
       "Age                         0.00\n",
       "Gender                      0.00\n",
       "Country                     0.00\n",
       "state                       0.00\n",
       "self_employed               0.00\n",
       "family_history              0.00\n",
       "treatment                   0.00\n",
       "work_interfere              0.00\n",
       "no_employees                0.00\n",
       "remote_work                 0.00\n",
       "tech_company                0.00\n",
       "benefits                    0.00\n",
       "care_options                0.00\n",
       "wellness_program            0.00\n",
       "seek_help                   0.00\n",
       "anonymity                   0.00\n",
       "leave                       0.00\n",
       "mental_health_consequence   0.00\n",
       "phys_health_consequence     0.00\n",
       "coworkers                   0.00\n",
       "supervisor                  0.00\n",
       "mental_health_interview     0.00\n",
       "phys_health_interview       0.00\n",
       "mental_vs_physical          0.00\n",
       "obs_consequence             0.00\n",
       "dtype: float64"
      ]
     },
     "execution_count": 42,
     "metadata": {},
     "output_type": "execute_result"
    }
   ],
   "source": [
    "100*(MH.shape[0] - MH.count())/MH.shape[0]"
   ]
  },
  {
   "cell_type": "markdown",
   "metadata": {
    "id": "WZ0k26PP-tEc"
   },
   "source": [
    "<a name = Section52></a>\n",
    "### **5.2 Handling of Redundant Data**\n",
    "\n",
    "- In this section, we will identify redundant data and check the proportion of it and take appropriate measures."
   ]
  },
  {
   "cell_type": "code",
   "execution_count": 15,
   "metadata": {},
   "outputs": [
    {
     "data": {
      "text/plain": [
       "False    1259\n",
       "dtype: int64"
      ]
     },
     "execution_count": 15,
     "metadata": {},
     "output_type": "execute_result"
    }
   ],
   "source": [
    "MH.duplicated().value_counts()"
   ]
  },
  {
   "cell_type": "markdown",
   "metadata": {},
   "source": [
    "##### Had there been a duplicate?"
   ]
  },
  {
   "cell_type": "code",
   "execution_count": 16,
   "metadata": {},
   "outputs": [],
   "source": [
    "MH = MH.drop_duplicates()"
   ]
  },
  {
   "cell_type": "markdown",
   "metadata": {},
   "source": [
    "##### How could we have verified?"
   ]
  },
  {
   "cell_type": "code",
   "execution_count": 17,
   "metadata": {},
   "outputs": [
    {
     "data": {
      "text/plain": [
       "False    1259\n",
       "dtype: int64"
      ]
     },
     "execution_count": 17,
     "metadata": {},
     "output_type": "execute_result"
    }
   ],
   "source": [
    "MH.duplicated().value_counts()"
   ]
  },
  {
   "cell_type": "markdown",
   "metadata": {
    "id": "F-Xk463w-yw2"
   },
   "source": [
    "<a name = Section53></a>\n",
    "### **5.3 Handling of Inconsistent Data**\n",
    "\n",
    "- In this section, we will **identify inconsistency** in data and and then **take appropriate measures**.\n",
    "\n",
    "- Previously, we observed that **Timestamp** feature was **incorrectly indentified** as Object, so, we will rectify it.\n",
    "\n",
    "- Additionally, we can observe that some features are having data of different format such as Gender."
   ]
  },
  {
   "cell_type": "markdown",
   "metadata": {},
   "source": [
    "#### A. Handling timestamp"
   ]
  },
  {
   "cell_type": "code",
   "execution_count": 43,
   "metadata": {},
   "outputs": [],
   "source": [
    "MH['Timestamp'] = pd.to_datetime(MH['Timestamp'])"
   ]
  },
  {
   "cell_type": "code",
   "execution_count": 19,
   "metadata": {},
   "outputs": [
    {
     "name": "stdout",
     "output_type": "stream",
     "text": [
      "<class 'pandas.core.frame.DataFrame'>\n",
      "Int64Index: 1259 entries, 0 to 1258\n",
      "Data columns (total 26 columns):\n",
      " #   Column                     Non-Null Count  Dtype         \n",
      "---  ------                     --------------  -----         \n",
      " 0   Timestamp                  1259 non-null   datetime64[ns]\n",
      " 1   Age                        1259 non-null   int64         \n",
      " 2   Gender                     1259 non-null   object        \n",
      " 3   Country                    1259 non-null   object        \n",
      " 4   state                      1259 non-null   object        \n",
      " 5   self_employed              1259 non-null   object        \n",
      " 6   family_history             1259 non-null   object        \n",
      " 7   treatment                  1259 non-null   object        \n",
      " 8   work_interfere             1259 non-null   object        \n",
      " 9   no_employees               1259 non-null   object        \n",
      " 10  remote_work                1259 non-null   object        \n",
      " 11  tech_company               1259 non-null   object        \n",
      " 12  benefits                   1259 non-null   object        \n",
      " 13  care_options               1259 non-null   object        \n",
      " 14  wellness_program           1259 non-null   object        \n",
      " 15  seek_help                  1259 non-null   object        \n",
      " 16  anonymity                  1259 non-null   object        \n",
      " 17  leave                      1259 non-null   object        \n",
      " 18  mental_health_consequence  1259 non-null   object        \n",
      " 19  phys_health_consequence    1259 non-null   object        \n",
      " 20  coworkers                  1259 non-null   object        \n",
      " 21  supervisor                 1259 non-null   object        \n",
      " 22  mental_health_interview    1259 non-null   object        \n",
      " 23  phys_health_interview      1259 non-null   object        \n",
      " 24  mental_vs_physical         1259 non-null   object        \n",
      " 25  obs_consequence            1259 non-null   object        \n",
      "dtypes: datetime64[ns](1), int64(1), object(24)\n",
      "memory usage: 265.6+ KB\n"
     ]
    }
   ],
   "source": [
    "MH.info()"
   ]
  },
  {
   "cell_type": "markdown",
   "metadata": {},
   "source": [
    "#### B. Handling Gender"
   ]
  },
  {
   "cell_type": "code",
   "execution_count": 20,
   "metadata": {},
   "outputs": [
    {
     "data": {
      "text/plain": [
       "array(['Female', 'M', 'Male', 'male', 'female', 'm', 'Male-ish', 'maile',\n",
       "       'Trans-female', 'Cis Female', 'F', 'something kinda male?',\n",
       "       'Cis Male', 'Woman', 'f', 'Mal', 'Male (CIS)', 'queer/she/they',\n",
       "       'non-binary', 'Femake', 'woman', 'Make', 'Nah', 'All', 'Enby',\n",
       "       'fluid', 'Genderqueer', 'Female ', 'Androgyne', 'Agender',\n",
       "       'cis-female/femme', 'Guy (-ish) ^_^', 'male leaning androgynous',\n",
       "       'Male ', 'Man', 'Trans woman', 'msle', 'Neuter', 'Female (trans)',\n",
       "       'queer', 'Female (cis)', 'Mail', 'cis male', 'A little about you',\n",
       "       'Malr', 'p', 'femail', 'Cis Man',\n",
       "       'ostensibly male, unsure what that really means'], dtype=object)"
      ]
     },
     "execution_count": 20,
     "metadata": {},
     "output_type": "execute_result"
    }
   ],
   "source": [
    "MH['Gender'].unique()"
   ]
  },
  {
   "cell_type": "code",
   "execution_count": 44,
   "metadata": {},
   "outputs": [],
   "source": [
    "M = [ 'M', 'Male', 'male',  'm', 'Male-ish', 'maile',\n",
    "       'Cis Male', 'Mal', 'Male (CIS)', 'Make', 'Guy (-ish) ^_^', \n",
    "       'Male ', 'Man', 'msle', 'Mail', 'cis male', \n",
    "       'Malr', 'Cis Man']\n",
    "\n",
    "F = ['Female',  'female', 'Cis Female', 'F',\n",
    "        'Woman', 'f',  'Femake', 'woman',  'Female ', \n",
    "       'cis-female/femme', 'Female (cis)', 'femail']\n",
    "\n",
    "T = [  'Trans-female', 'something kinda male?', 'queer/she/they',\n",
    "       'non-binary', 'Nah', 'All', 'Enby',\n",
    "       'fluid', 'Genderqueer',  'Androgyne', 'Agender', 'male leaning androgynous',\n",
    "        'Trans woman',  'Neuter', 'Female (trans)',\n",
    "       'queer',  'ostensibly male, unsure what that really means']\n",
    "\n",
    "delG = ['A little about you','p']"
   ]
  },
  {
   "cell_type": "code",
   "execution_count": 45,
   "metadata": {},
   "outputs": [],
   "source": [
    "MH = MH[~MH['Gender'].isin(delG)]"
   ]
  },
  {
   "cell_type": "code",
   "execution_count": 46,
   "metadata": {},
   "outputs": [],
   "source": [
    "MH['Gender'] = MH['Gender'].replace(M, 'M').replace(F, 'F').replace(T, 'T')"
   ]
  },
  {
   "cell_type": "code",
   "execution_count": 47,
   "metadata": {},
   "outputs": [
    {
     "data": {
      "text/plain": [
       "M    992\n",
       "F    247\n",
       "T     18\n",
       "Name: Gender, dtype: int64"
      ]
     },
     "execution_count": 47,
     "metadata": {},
     "output_type": "execute_result"
    }
   ],
   "source": [
    "MH['Gender'].value_counts()"
   ]
  },
  {
   "cell_type": "code",
   "execution_count": 48,
   "metadata": {},
   "outputs": [
    {
     "data": {
      "text/plain": [
       "(1257, 26)"
      ]
     },
     "execution_count": 48,
     "metadata": {},
     "output_type": "execute_result"
    }
   ],
   "source": [
    "MH.shape"
   ]
  },
  {
   "cell_type": "markdown",
   "metadata": {
    "id": "SgCBF7_MOEUl"
   },
   "source": [
    "**Observation:**\n",
    "\n",
    "- Now, we **handled inconsistency** of data **manually** for **one feature**, but it would be **impossible** when you have **hundreds of features**.\n",
    "\n",
    "- In that case, we can **use interactive plots** like plotly to know all the possible values in each feature.\n",
    "\n",
    "- Next, we will **identify** all the categorical features and render a bar plot to identify the **present values**.\n",
    "\n",
    "- If we find any inconsistency in the feature, then we will take appropriate measures.\n",
    "\n",
    "**Note:**\n",
    "\n",
    "- The **approach followed down** for basic data analysis is **not mandatory**.\n",
    "\n",
    "- You can **also go feature by feature** and analyze the data to understand the underlying face of data.\n",
    "\n",
    "- To **make our life easier**, we will be **utilizing a small hack**.\n"
   ]
  },
  {
   "cell_type": "code",
   "execution_count": null,
   "metadata": {},
   "outputs": [],
   "source": []
  },
  {
   "cell_type": "markdown",
   "metadata": {
    "id": "feLKV9y_O80f"
   },
   "source": [
    "**Observations:**\n",
    "\n",
    "- By interacting with the above figure we can safely conclude that rest all **other features** are **having correct values**."
   ]
  },
  {
   "cell_type": "markdown",
   "metadata": {
    "id": "OnJrjoHuLZDT"
   },
   "source": [
    "<a name = Section54></a>\n",
    "### **5.4 Handling of WRONG values in Age**\n",
    "\n",
    "- Next, if you remember our **age** feature was showing us some **absurd numbers** like 329, 999999999999, -1729.\n",
    "\n",
    "- These are **outliers** and we will **perform capping** over these values such as:\n",
    "  - All value above 75 will be capped to 75 (on **average 65** is the **retirement** but taking extra buffer).\n",
    "  - All value below 14 will be capped to 14 (on **average 14** is the **minimum age** for **employment**).\n",
    "\n",
    "- As a general rule, the FLSA sets 14 years old as the minimum age for employment under limited number of hours."
   ]
  },
  {
   "cell_type": "code",
   "execution_count": null,
   "metadata": {},
   "outputs": [],
   "source": [
    "'''\n",
    "Correct value of age = 18+ and 75-\n",
    "'''"
   ]
  },
  {
   "cell_type": "code",
   "execution_count": 26,
   "metadata": {},
   "outputs": [
    {
     "data": {
      "text/plain": [
       "31.0"
      ]
     },
     "execution_count": 26,
     "metadata": {},
     "output_type": "execute_result"
    }
   ],
   "source": [
    "MH['Age'].median()"
   ]
  },
  {
   "cell_type": "code",
   "execution_count": 43,
   "metadata": {},
   "outputs": [],
   "source": [
    "# MH[~((MH['Age']>=18) & (MH['Age']<=75))]['Age'] = MH['Age'].median() WRONG"
   ]
  },
  {
   "cell_type": "code",
   "execution_count": 49,
   "metadata": {
    "scrolled": true
   },
   "outputs": [],
   "source": [
    "MH['Age'] = MH['Age'].replace([MH[~((MH['Age'] >= 18) & (MH['Age'] <=75))]['Age']], MH['Age'].median())\n",
    "\n",
    "## option 1"
   ]
  },
  {
   "cell_type": "code",
   "execution_count": 30,
   "metadata": {},
   "outputs": [],
   "source": [
    "# MH['Age'][~((MH['Age']>=18) & (MH['Age']<=75))] = MH['Age'].median() ## Option 2"
   ]
  },
  {
   "cell_type": "code",
   "execution_count": 50,
   "metadata": {},
   "outputs": [
    {
     "data": {
      "text/plain": [
       "count   1257.00\n",
       "mean      32.07\n",
       "std        7.27\n",
       "min       18.00\n",
       "25%       27.00\n",
       "50%       31.00\n",
       "75%       36.00\n",
       "max       72.00\n",
       "Name: Age, dtype: float64"
      ]
     },
     "execution_count": 50,
     "metadata": {},
     "output_type": "execute_result"
    }
   ],
   "source": [
    "MH['Age'].describe()"
   ]
  },
  {
   "cell_type": "markdown",
   "metadata": {
    "id": "i41Ox8TibpbR"
   },
   "source": [
    "**Observation:**\n",
    "\n",
    "- Now that we have successfully cleansed our data we are good to go with exploring our data and finding insights."
   ]
  },
  {
   "cell_type": "markdown",
   "metadata": {
    "id": "H1dTrDuMbZxi"
   },
   "source": [
    "<a name = Section6></a>\n",
    "\n",
    "---\n",
    "# **6. Exploratory Data Analysis**\n",
    "---"
   ]
  },
  {
   "cell_type": "code",
   "execution_count": null,
   "metadata": {},
   "outputs": [],
   "source": [
    "# asking questions"
   ]
  },
  {
   "cell_type": "markdown",
   "metadata": {},
   "source": [
    "#### The RULE"
   ]
  },
  {
   "cell_type": "code",
   "execution_count": 51,
   "metadata": {},
   "outputs": [
    {
     "data": {
      "text/plain": [
       "'\\nRelevant\\nResonable \\nnon \\n\\n'"
      ]
     },
     "execution_count": 51,
     "metadata": {},
     "output_type": "execute_result"
    }
   ],
   "source": [
    "'''\n",
    "Relevant\n",
    "Resonable \n",
    "non Vague\n",
    "'''"
   ]
  },
  {
   "cell_type": "code",
   "execution_count": null,
   "metadata": {},
   "outputs": [],
   "source": [
    "'''Just enough number of questions'''"
   ]
  },
  {
   "cell_type": "markdown",
   "metadata": {},
   "source": [
    "#### The GUIDANCE"
   ]
  },
  {
   "cell_type": "code",
   "execution_count": null,
   "metadata": {},
   "outputs": [],
   "source": [
    "'''\n",
    "Number of questions = 15 +- 5\n",
    "\n",
    "'''"
   ]
  },
  {
   "cell_type": "markdown",
   "metadata": {},
   "source": [
    "#### The STRATEGY"
   ]
  },
  {
   "cell_type": "code",
   "execution_count": null,
   "metadata": {},
   "outputs": [],
   "source": [
    "'''\n",
    "1. UNI variate - n columns - n questions\n",
    "\n",
    "2. BI variate - n columns - (n2 - n)/2 = nC2\n",
    "===\n",
    "almost all of these become too dificult to comprehend even if it is non vague\n",
    "3. MULTI variate - n ocolumns - 2**n - 1 - (n2 -n)/2 - n\n",
    "\n",
    "-----------------------------------------------------\n",
    "\n",
    "TOTAL possible queations - nC1 + nC2 + nC3 ... + nCn = 2**n - 1\n",
    "\n",
    "'''"
   ]
  },
  {
   "cell_type": "code",
   "execution_count": 52,
   "metadata": {},
   "outputs": [
    {
     "data": {
      "text/plain": [
       "67108863"
      ]
     },
     "execution_count": 52,
     "metadata": {},
     "output_type": "execute_result"
    }
   ],
   "source": [
    "2**26 - 1"
   ]
  },
  {
   "cell_type": "code",
   "execution_count": null,
   "metadata": {},
   "outputs": [],
   "source": [
    "# HOMEWORK - create 5 univariate 5 bi variate and 5 multi variate questions."
   ]
  },
  {
   "cell_type": "markdown",
   "metadata": {},
   "source": [
    "---"
   ]
  },
  {
   "cell_type": "code",
   "execution_count": null,
   "metadata": {
    "colab": {
     "base_uri": "https://localhost:8080/",
     "height": 394
    },
    "executionInfo": {
     "elapsed": 3062,
     "status": "ok",
     "timestamp": 1620112244840,
     "user": {
      "displayName": "Mukesh Kumar",
      "photoUrl": "https://lh3.googleusercontent.com/a-/AOh14GjTZH-ccUwdv--s75Iw1qfyi7gtUyH2m_-htD2e=s64",
      "userId": "01238672520445611335"
     },
     "user_tz": -330
    },
    "id": "NU9V8MmKtqfh",
    "outputId": "24c79c4a-1cd0-49d5-9027-69f0c72b1c17",
    "scrolled": true
   },
   "outputs": [
    {
     "data": {
      "text/html": [
       "<div>\n",
       "<style scoped>\n",
       "    .dataframe tbody tr th:only-of-type {\n",
       "        vertical-align: middle;\n",
       "    }\n",
       "\n",
       "    .dataframe tbody tr th {\n",
       "        vertical-align: top;\n",
       "    }\n",
       "\n",
       "    .dataframe thead th {\n",
       "        text-align: right;\n",
       "    }\n",
       "</style>\n",
       "<table border=\"1\" class=\"dataframe\">\n",
       "  <thead>\n",
       "    <tr style=\"text-align: right;\">\n",
       "      <th></th>\n",
       "      <th>Timestamp</th>\n",
       "      <th>Age</th>\n",
       "      <th>Gender</th>\n",
       "      <th>Country</th>\n",
       "      <th>state</th>\n",
       "      <th>self_employed</th>\n",
       "      <th>family_history</th>\n",
       "      <th>treatment</th>\n",
       "      <th>work_interfere</th>\n",
       "      <th>no_employees</th>\n",
       "      <th>remote_work</th>\n",
       "      <th>tech_company</th>\n",
       "      <th>benefits</th>\n",
       "      <th>care_options</th>\n",
       "      <th>wellness_program</th>\n",
       "      <th>seek_help</th>\n",
       "      <th>anonymity</th>\n",
       "      <th>leave</th>\n",
       "      <th>mental_health_consequence</th>\n",
       "      <th>phys_health_consequence</th>\n",
       "      <th>coworkers</th>\n",
       "      <th>supervisor</th>\n",
       "      <th>mental_health_interview</th>\n",
       "      <th>phys_health_interview</th>\n",
       "      <th>mental_vs_physical</th>\n",
       "      <th>obs_consequence</th>\n",
       "    </tr>\n",
       "  </thead>\n",
       "  <tbody>\n",
       "    <tr>\n",
       "      <th>0</th>\n",
       "      <td>2014-08-27 11:29:31</td>\n",
       "      <td>37</td>\n",
       "      <td>female</td>\n",
       "      <td>United States</td>\n",
       "      <td>IL</td>\n",
       "      <td>No</td>\n",
       "      <td>No</td>\n",
       "      <td>Yes</td>\n",
       "      <td>Often</td>\n",
       "      <td>6-25</td>\n",
       "      <td>No</td>\n",
       "      <td>Yes</td>\n",
       "      <td>Yes</td>\n",
       "      <td>Not sure</td>\n",
       "      <td>No</td>\n",
       "      <td>Yes</td>\n",
       "      <td>Yes</td>\n",
       "      <td>Somewhat easy</td>\n",
       "      <td>No</td>\n",
       "      <td>No</td>\n",
       "      <td>Some of them</td>\n",
       "      <td>Yes</td>\n",
       "      <td>No</td>\n",
       "      <td>Maybe</td>\n",
       "      <td>Yes</td>\n",
       "      <td>No</td>\n",
       "    </tr>\n",
       "    <tr>\n",
       "      <th>1</th>\n",
       "      <td>2014-08-27 11:29:37</td>\n",
       "      <td>44</td>\n",
       "      <td>male</td>\n",
       "      <td>United States</td>\n",
       "      <td>IN</td>\n",
       "      <td>No</td>\n",
       "      <td>No</td>\n",
       "      <td>No</td>\n",
       "      <td>Rarely</td>\n",
       "      <td>More than 1000</td>\n",
       "      <td>No</td>\n",
       "      <td>No</td>\n",
       "      <td>Don't know</td>\n",
       "      <td>No</td>\n",
       "      <td>Don't know</td>\n",
       "      <td>Don't know</td>\n",
       "      <td>Don't know</td>\n",
       "      <td>Don't know</td>\n",
       "      <td>Maybe</td>\n",
       "      <td>No</td>\n",
       "      <td>No</td>\n",
       "      <td>No</td>\n",
       "      <td>No</td>\n",
       "      <td>No</td>\n",
       "      <td>Don't know</td>\n",
       "      <td>No</td>\n",
       "    </tr>\n",
       "    <tr>\n",
       "      <th>2</th>\n",
       "      <td>2014-08-27 11:29:44</td>\n",
       "      <td>32</td>\n",
       "      <td>male</td>\n",
       "      <td>Canada</td>\n",
       "      <td>CA</td>\n",
       "      <td>No</td>\n",
       "      <td>No</td>\n",
       "      <td>No</td>\n",
       "      <td>Rarely</td>\n",
       "      <td>6-25</td>\n",
       "      <td>No</td>\n",
       "      <td>Yes</td>\n",
       "      <td>No</td>\n",
       "      <td>No</td>\n",
       "      <td>No</td>\n",
       "      <td>No</td>\n",
       "      <td>Don't know</td>\n",
       "      <td>Somewhat difficult</td>\n",
       "      <td>No</td>\n",
       "      <td>No</td>\n",
       "      <td>Yes</td>\n",
       "      <td>Yes</td>\n",
       "      <td>Yes</td>\n",
       "      <td>Yes</td>\n",
       "      <td>No</td>\n",
       "      <td>No</td>\n",
       "    </tr>\n",
       "    <tr>\n",
       "      <th>3</th>\n",
       "      <td>2014-08-27 11:29:46</td>\n",
       "      <td>31</td>\n",
       "      <td>male</td>\n",
       "      <td>United Kingdom</td>\n",
       "      <td>CA</td>\n",
       "      <td>No</td>\n",
       "      <td>Yes</td>\n",
       "      <td>Yes</td>\n",
       "      <td>Often</td>\n",
       "      <td>26-100</td>\n",
       "      <td>No</td>\n",
       "      <td>Yes</td>\n",
       "      <td>No</td>\n",
       "      <td>Yes</td>\n",
       "      <td>No</td>\n",
       "      <td>No</td>\n",
       "      <td>No</td>\n",
       "      <td>Somewhat difficult</td>\n",
       "      <td>Yes</td>\n",
       "      <td>Yes</td>\n",
       "      <td>Some of them</td>\n",
       "      <td>No</td>\n",
       "      <td>Maybe</td>\n",
       "      <td>Maybe</td>\n",
       "      <td>No</td>\n",
       "      <td>Yes</td>\n",
       "    </tr>\n",
       "    <tr>\n",
       "      <th>4</th>\n",
       "      <td>2014-08-27 11:30:22</td>\n",
       "      <td>31</td>\n",
       "      <td>male</td>\n",
       "      <td>United States</td>\n",
       "      <td>TX</td>\n",
       "      <td>No</td>\n",
       "      <td>No</td>\n",
       "      <td>No</td>\n",
       "      <td>Never</td>\n",
       "      <td>100-500</td>\n",
       "      <td>Yes</td>\n",
       "      <td>Yes</td>\n",
       "      <td>Yes</td>\n",
       "      <td>No</td>\n",
       "      <td>Don't know</td>\n",
       "      <td>Don't know</td>\n",
       "      <td>Don't know</td>\n",
       "      <td>Don't know</td>\n",
       "      <td>No</td>\n",
       "      <td>No</td>\n",
       "      <td>Some of them</td>\n",
       "      <td>Yes</td>\n",
       "      <td>Yes</td>\n",
       "      <td>Yes</td>\n",
       "      <td>Don't know</td>\n",
       "      <td>No</td>\n",
       "    </tr>\n",
       "  </tbody>\n",
       "</table>\n",
       "</div>"
      ],
      "text/plain": [
       "            Timestamp  Age  Gender         Country state self_employed  \\\n",
       "0 2014-08-27 11:29:31   37  female   United States    IL            No   \n",
       "1 2014-08-27 11:29:37   44    male   United States    IN            No   \n",
       "2 2014-08-27 11:29:44   32    male          Canada    CA            No   \n",
       "3 2014-08-27 11:29:46   31    male  United Kingdom    CA            No   \n",
       "4 2014-08-27 11:30:22   31    male   United States    TX            No   \n",
       "\n",
       "  family_history treatment work_interfere    no_employees remote_work  \\\n",
       "0             No       Yes          Often            6-25          No   \n",
       "1             No        No         Rarely  More than 1000          No   \n",
       "2             No        No         Rarely            6-25          No   \n",
       "3            Yes       Yes          Often          26-100          No   \n",
       "4             No        No          Never         100-500         Yes   \n",
       "\n",
       "  tech_company    benefits care_options wellness_program   seek_help  \\\n",
       "0          Yes         Yes     Not sure               No         Yes   \n",
       "1           No  Don't know           No       Don't know  Don't know   \n",
       "2          Yes          No           No               No          No   \n",
       "3          Yes          No          Yes               No          No   \n",
       "4          Yes         Yes           No       Don't know  Don't know   \n",
       "\n",
       "    anonymity               leave mental_health_consequence  \\\n",
       "0         Yes       Somewhat easy                        No   \n",
       "1  Don't know          Don't know                     Maybe   \n",
       "2  Don't know  Somewhat difficult                        No   \n",
       "3          No  Somewhat difficult                       Yes   \n",
       "4  Don't know          Don't know                        No   \n",
       "\n",
       "  phys_health_consequence     coworkers supervisor mental_health_interview  \\\n",
       "0                      No  Some of them        Yes                      No   \n",
       "1                      No            No         No                      No   \n",
       "2                      No           Yes        Yes                     Yes   \n",
       "3                     Yes  Some of them         No                   Maybe   \n",
       "4                      No  Some of them        Yes                     Yes   \n",
       "\n",
       "  phys_health_interview mental_vs_physical obs_consequence  \n",
       "0                 Maybe                Yes              No  \n",
       "1                    No         Don't know              No  \n",
       "2                   Yes                 No              No  \n",
       "3                 Maybe                 No             Yes  \n",
       "4                   Yes         Don't know              No  "
      ]
     },
     "execution_count": 130,
     "metadata": {
      "tags": []
     },
     "output_type": "execute_result"
    }
   ],
   "source": [
    "data.head()"
   ]
  },
  {
   "cell_type": "markdown",
   "metadata": {
    "id": "ttRE-dxIsk4i"
   },
   "source": [
    "<a name = Section61></a>\n",
    "**<h4>Question:** How does age relate to various behaviors and/or their awareness of their employer's attitude toward mental health?</h4>"
   ]
  },
  {
   "cell_type": "code",
   "execution_count": 53,
   "metadata": {},
   "outputs": [
    {
     "data": {
      "text/plain": [
       "Index(['Timestamp', 'Age', 'Gender', 'Country', 'state', 'self_employed',\n",
       "       'family_history', 'treatment', 'work_interfere', 'no_employees',\n",
       "       'remote_work', 'tech_company', 'benefits', 'care_options',\n",
       "       'wellness_program', 'seek_help', 'anonymity', 'leave',\n",
       "       'mental_health_consequence', 'phys_health_consequence', 'coworkers',\n",
       "       'supervisor', 'mental_health_interview', 'phys_health_interview',\n",
       "       'mental_vs_physical', 'obs_consequence'],\n",
       "      dtype='object')"
      ]
     },
     "execution_count": 53,
     "metadata": {},
     "output_type": "execute_result"
    }
   ],
   "source": [
    "MH.columns"
   ]
  },
  {
   "cell_type": "code",
   "execution_count": null,
   "metadata": {},
   "outputs": [],
   "source": [
    "'''\n",
    "Q - How does willing to seek treatment changes with age?\n",
    "\n",
    "Rel - YES\n",
    "Res - YES\n",
    "nVague - YES\n",
    "\n",
    "Variate -  BI\n",
    "\n",
    "\n",
    "'Age' - CONT\n",
    "'treatment' - CAT\n",
    "\n",
    "'''"
   ]
  },
  {
   "cell_type": "code",
   "execution_count": 56,
   "metadata": {},
   "outputs": [
    {
     "data": {
      "text/plain": [
       "<AxesSubplot:xlabel='Age', ylabel='Density'>"
      ]
     },
     "execution_count": 56,
     "metadata": {},
     "output_type": "execute_result"
    },
    {
     "data": {
      "image/png": "[encoded data removed]",
      "text/plain": [
       "<Figure size 1080x504 with 1 Axes>"
      ]
     },
     "metadata": {
      "needs_background": "light"
     },
     "output_type": "display_data"
    }
   ],
   "source": [
    "paper = plt.figure(figsize = [15,7])\n",
    "\n",
    "sns.kdeplot(data = MH, x = 'Age', hue = 'treatment')\n"
   ]
  },
  {
   "cell_type": "code",
   "execution_count": null,
   "metadata": {},
   "outputs": [],
   "source": [
    "# age doesnt matter"
   ]
  },
  {
   "cell_type": "markdown",
   "metadata": {
    "id": "okOQ_LhVxIRJ"
   },
   "source": [
    "**Observation:**\n",
    "\n",
    "- We can observe that people of **age 14 - age 22** are **mildly conscious** while people of **age 23 - age 37** are **less conscious** for **treatment**.\n",
    "\n",
    "- People of **age 38 and above** are **highly conscious** and are **up for treatment**."
   ]
  },
  {
   "cell_type": "markdown",
   "metadata": {},
   "source": [
    "---"
   ]
  },
  {
   "cell_type": "markdown",
   "metadata": {
    "id": "Txgi1u48ysnL"
   },
   "source": [
    "<a name = Section62></a>\n",
    "**<h4>Question:** What is the density distribution of Age feature?</h4>"
   ]
  },
  {
   "cell_type": "code",
   "execution_count": null,
   "metadata": {},
   "outputs": [],
   "source": [
    "'''\n",
    "Rel - YES\n",
    "Res - YES\n",
    "nVague - YES\n",
    "\n",
    "Variate -  UNI\n",
    "\n",
    "'Age' - CONT\n",
    "'''"
   ]
  },
  {
   "cell_type": "code",
   "execution_count": 59,
   "metadata": {},
   "outputs": [
    {
     "data": {
      "text/plain": [
       "<AxesSubplot:xlabel='Age', ylabel='Density'>"
      ]
     },
     "execution_count": 59,
     "metadata": {},
     "output_type": "execute_result"
    },
    {
     "data": {
      "image/png": "[encoded data removed]",
      "text/plain": [
       "<Figure size 1080x504 with 1 Axes>"
      ]
     },
     "metadata": {
      "needs_background": "light"
     },
     "output_type": "display_data"
    }
   ],
   "source": [
    "paper = plt.figure(figsize = [15,7])\n",
    "sns.distplot(MH['Age'])"
   ]
  },
  {
   "cell_type": "markdown",
   "metadata": {
    "id": "2tcBcEx3zQTN"
   },
   "source": [
    "**Observation:**\n",
    "\n",
    "- We can **observe a peak** between **mid-20s to about mid-30s**.\n",
    "\n",
    "- This implies that **majority of people** are from **mid 20s to mid 30s**."
   ]
  },
  {
   "cell_type": "markdown",
   "metadata": {},
   "source": [
    "---"
   ]
  },
  {
   "cell_type": "markdown",
   "metadata": {
    "id": "-Ihz0LT31OTT"
   },
   "source": [
    "<a name = Section63></a>\n",
    "**<h4>Question:** What is the association between treatment and gender in terms of ratio?</h4>"
   ]
  },
  {
   "cell_type": "code",
   "execution_count": 60,
   "metadata": {},
   "outputs": [
    {
     "data": {
      "text/plain": [
       "Index(['Timestamp', 'Age', 'Gender', 'Country', 'state', 'self_employed',\n",
       "       'family_history', 'treatment', 'work_interfere', 'no_employees',\n",
       "       'remote_work', 'tech_company', 'benefits', 'care_options',\n",
       "       'wellness_program', 'seek_help', 'anonymity', 'leave',\n",
       "       'mental_health_consequence', 'phys_health_consequence', 'coworkers',\n",
       "       'supervisor', 'mental_health_interview', 'phys_health_interview',\n",
       "       'mental_vs_physical', 'obs_consequence'],\n",
       "      dtype='object')"
      ]
     },
     "execution_count": 60,
     "metadata": {},
     "output_type": "execute_result"
    }
   ],
   "source": [
    "MH.columns"
   ]
  },
  {
   "cell_type": "code",
   "execution_count": null,
   "metadata": {},
   "outputs": [],
   "source": [
    "'''\n",
    "Rel - YES\n",
    "Res - YES\n",
    "nVague - YES\n",
    "\n",
    "Variate -  BI\n",
    "\n",
    "'Gender' - CAT\n",
    "'treatment' - CAT\n",
    "\n",
    "2 cat variables - groupeed pi charts\n",
    "'''"
   ]
  },
  {
   "cell_type": "code",
   "execution_count": 62,
   "metadata": {},
   "outputs": [
    {
     "data": {
      "text/plain": [
       "<AxesSubplot:ylabel='treatment'>"
      ]
     },
     "execution_count": 62,
     "metadata": {},
     "output_type": "execute_result"
    },
    {
     "data": {
      "image/png": "[encoded data removed]",
      "text/plain": [
       "<Figure size 432x288 with 1 Axes>"
      ]
     },
     "metadata": {},
     "output_type": "display_data"
    }
   ],
   "source": [
    "MH[MH['Gender']=='M']['treatment'].value_counts().plot.pie()"
   ]
  },
  {
   "cell_type": "code",
   "execution_count": 63,
   "metadata": {},
   "outputs": [
    {
     "data": {
      "text/plain": [
       "<AxesSubplot:ylabel='treatment'>"
      ]
     },
     "execution_count": 63,
     "metadata": {},
     "output_type": "execute_result"
    },
    {
     "data": {
      "image/png": "[encoded data removed]",
      "text/plain": [
       "<Figure size 432x288 with 1 Axes>"
      ]
     },
     "metadata": {},
     "output_type": "display_data"
    }
   ],
   "source": [
    "MH[MH['Gender']=='F']['treatment'].value_counts().plot.pie()"
   ]
  },
  {
   "cell_type": "code",
   "execution_count": 64,
   "metadata": {
    "scrolled": true
   },
   "outputs": [
    {
     "data": {
      "text/plain": [
       "<AxesSubplot:ylabel='treatment'>"
      ]
     },
     "execution_count": 64,
     "metadata": {},
     "output_type": "execute_result"
    },
    {
     "data": {
      "image/png": "[encoded data removed]",
      "text/plain": [
       "<Figure size 432x288 with 1 Axes>"
      ]
     },
     "metadata": {},
     "output_type": "display_data"
    }
   ],
   "source": [
    "MH[MH['Gender']=='T']['treatment'].value_counts().plot.pie()"
   ]
  },
  {
   "cell_type": "code",
   "execution_count": 68,
   "metadata": {
    "scrolled": true
   },
   "outputs": [
    {
     "data": {
      "text/plain": [
       "Text(0.5, 1.0, 'T')"
      ]
     },
     "execution_count": 68,
     "metadata": {},
     "output_type": "execute_result"
    },
    {
     "data": {
      "image/png": "[encoded data removed]",
      "text/plain": [
       "<Figure size 1080x360 with 3 Axes>"
      ]
     },
     "metadata": {},
     "output_type": "display_data"
    }
   ],
   "source": [
    "paper = plt.figure(figsize = [15,5])\n",
    "\n",
    "plt.subplot(1,3,1)\n",
    "MH[MH['Gender']=='M']['treatment'].value_counts().plot.pie(autopct='%3.1f%%')\n",
    "plt.title('M')\n",
    "\n",
    "plt.subplot(1,3,2)\n",
    "MH[MH['Gender']=='F']['treatment'].value_counts().plot.pie(autopct='%3.1f%%')\n",
    "plt.title('F')\n",
    "\n",
    "plt.subplot(1,3,3)\n",
    "MH[MH['Gender']=='T']['treatment'].value_counts().plot.pie(autopct='%3.1f%%')\n",
    "plt.title('T')"
   ]
  },
  {
   "cell_type": "code",
   "execution_count": null,
   "metadata": {},
   "outputs": [],
   "source": [
    "# men are machos for no good reason, we can help them out."
   ]
  },
  {
   "cell_type": "markdown",
   "metadata": {
    "id": "ZTH8ZDwx3ZcQ"
   },
   "source": [
    "**Observation:**\n",
    "\n",
    "- We can observe that **female** and **trans** are **more affected** than males in terms of ratio."
   ]
  },
  {
   "cell_type": "markdown",
   "metadata": {},
   "source": [
    "---"
   ]
  },
  {
   "cell_type": "markdown",
   "metadata": {
    "id": "gchmnZlg2P7A"
   },
   "source": [
    "<a name = Section64></a>\n",
    "**<h4>Question:** What is the association between treatment and work interference in terms of ratio?</h4>"
   ]
  },
  {
   "cell_type": "code",
   "execution_count": null,
   "metadata": {},
   "outputs": [],
   "source": [
    "'''\n",
    "Rel - YES\n",
    "Res - YES\n",
    "nVague - YES\n",
    "\n",
    "Variate -  BI\n",
    "\n",
    "'work_interfere' - CAT\n",
    "'treatment' - CAT\n",
    "\n",
    "2 cat variables - groupeed pi charts\n",
    "'''"
   ]
  },
  {
   "cell_type": "code",
   "execution_count": 69,
   "metadata": {},
   "outputs": [
    {
     "data": {
      "text/plain": [
       "array(['Often', 'Rarely', 'Never', 'Sometimes'], dtype=object)"
      ]
     },
     "execution_count": 69,
     "metadata": {},
     "output_type": "execute_result"
    }
   ],
   "source": [
    "MH['work_interfere'].unique()"
   ]
  },
  {
   "cell_type": "code",
   "execution_count": 70,
   "metadata": {
    "scrolled": true
   },
   "outputs": [
    {
     "data": {
      "text/plain": [
       "Text(0.5, 1.0, 'Often')"
      ]
     },
     "execution_count": 70,
     "metadata": {},
     "output_type": "execute_result"
    },
    {
     "data": {
      "image/png": "[encoded data removed]",
      "text/plain": [
       "<Figure size 1152x288 with 4 Axes>"
      ]
     },
     "metadata": {},
     "output_type": "display_data"
    }
   ],
   "source": [
    "\n",
    "paper = plt.figure(figsize = [16,4])\n",
    "\n",
    "plt.subplot(1,4,1)\n",
    "MH[MH['work_interfere']=='Never']['treatment'].value_counts().plot.pie(autopct='%3.1f%%')\n",
    "plt.title('Never')\n",
    "\n",
    "plt.subplot(1,4,2)\n",
    "MH[MH['work_interfere']=='Rarely']['treatment'].value_counts().plot.pie(autopct='%3.1f%%')\n",
    "plt.title('Rarely')\n",
    "\n",
    "plt.subplot(1,4,3)\n",
    "MH[MH['work_interfere']=='Sometimes']['treatment'].value_counts().plot.pie(autopct='%3.1f%%')\n",
    "plt.title('Sometimes')\n",
    "\n",
    "plt.subplot(1,4,4)\n",
    "MH[MH['work_interfere']=='Often']['treatment'].value_counts().plot.pie(autopct='%3.1f%%')\n",
    "plt.title('Often')\n"
   ]
  },
  {
   "cell_type": "code",
   "execution_count": null,
   "metadata": {},
   "outputs": [],
   "source": [
    "#do a groupby - HOME WORK"
   ]
  },
  {
   "cell_type": "code",
   "execution_count": 71,
   "metadata": {
    "scrolled": true
   },
   "outputs": [
    {
     "data": {
      "text/plain": [
       "<AxesSubplot:>"
      ]
     },
     "execution_count": 71,
     "metadata": {},
     "output_type": "execute_result"
    },
    {
     "data": {
      "image/png": "[encoded data removed]",
      "text/plain": [
       "<Figure size 432x288 with 1 Axes>"
      ]
     },
     "metadata": {
      "needs_background": "light"
     },
     "output_type": "display_data"
    }
   ],
   "source": [
    "MH['work_interfere'].value_counts().plot.bar()"
   ]
  },
  {
   "cell_type": "code",
   "execution_count": null,
   "metadata": {},
   "outputs": [],
   "source": [
    "## awareness is required where the work int is never, rarely and sometimes"
   ]
  },
  {
   "cell_type": "markdown",
   "metadata": {
    "id": "f_1B5pSU3LU9"
   },
   "source": [
    "**Observation:**\n",
    "\n",
    "- We can observe that **employees** who are \"**Often**\" and \"**Rarely**\" interferred during their work are **more likely** to **have mental health issues**.\n",
    "\n",
    "- Thus, they tend to go for treatment."
   ]
  },
  {
   "cell_type": "markdown",
   "metadata": {},
   "source": [
    "---"
   ]
  },
  {
   "cell_type": "markdown",
   "metadata": {
    "id": "zKKY33dk390c"
   },
   "source": [
    "<a name = Section65></a>\n",
    "**<h4>Question:** What is the association between treatment and age?</h4>"
   ]
  },
  {
   "cell_type": "code",
   "execution_count": null,
   "metadata": {},
   "outputs": [],
   "source": [
    "'''\n",
    "\n",
    "Rel - YES\n",
    "Res - YES\n",
    "nVague - YES\n",
    "\n",
    "Variate -  BI\n",
    "\n",
    "\n",
    "'Age' - CONT\n",
    "'treatment' - CAT\n",
    "\n",
    "'''"
   ]
  },
  {
   "cell_type": "code",
   "execution_count": 72,
   "metadata": {},
   "outputs": [
    {
     "data": {
      "text/plain": [
       "<AxesSubplot:xlabel='Age', ylabel='treatment'>"
      ]
     },
     "execution_count": 72,
     "metadata": {},
     "output_type": "execute_result"
    },
    {
     "data": {
      "image/png": "[encoded data removed]",
      "text/plain": [
       "<Figure size 432x288 with 1 Axes>"
      ]
     },
     "metadata": {
      "needs_background": "light"
     },
     "output_type": "display_data"
    }
   ],
   "source": [
    "sns.boxplot(data = MH, x = 'Age', y = 'treatment')"
   ]
  },
  {
   "cell_type": "markdown",
   "metadata": {
    "id": "IXxCNokE5UYh"
   },
   "source": [
    "**Observation:**\n",
    "\n",
    "- Although, we can't make a big observation out of the above plot because the distinction is almost the same.\n",
    "\n",
    "- But we can see that as the **age increases** **chances** to **seek** **treatment** also **increases**."
   ]
  },
  {
   "cell_type": "markdown",
   "metadata": {},
   "source": [
    "---"
   ]
  },
  {
   "cell_type": "markdown",
   "metadata": {
    "id": "mnF9uPP85_ML"
   },
   "source": [
    "<a name = Section66></a>\n",
    "**<h4>Question:** What is the association between treatment and family history of the employee?</h4>"
   ]
  },
  {
   "cell_type": "code",
   "execution_count": 73,
   "metadata": {},
   "outputs": [
    {
     "data": {
      "text/plain": [
       "Index(['Timestamp', 'Age', 'Gender', 'Country', 'state', 'self_employed',\n",
       "       'family_history', 'treatment', 'work_interfere', 'no_employees',\n",
       "       'remote_work', 'tech_company', 'benefits', 'care_options',\n",
       "       'wellness_program', 'seek_help', 'anonymity', 'leave',\n",
       "       'mental_health_consequence', 'phys_health_consequence', 'coworkers',\n",
       "       'supervisor', 'mental_health_interview', 'phys_health_interview',\n",
       "       'mental_vs_physical', 'obs_consequence'],\n",
       "      dtype='object')"
      ]
     },
     "execution_count": 73,
     "metadata": {},
     "output_type": "execute_result"
    }
   ],
   "source": [
    "MH.columns"
   ]
  },
  {
   "cell_type": "code",
   "execution_count": null,
   "metadata": {},
   "outputs": [],
   "source": [
    "'''\n",
    "\n",
    "Rel - YES\n",
    "Res - YES\n",
    "nVague - YES\n",
    "\n",
    "Variate -  BI\n",
    "\n",
    "\n",
    "'family_history' - CAT\n",
    "'treatment' - CAT\n",
    "\n",
    "'''"
   ]
  },
  {
   "cell_type": "code",
   "execution_count": 74,
   "metadata": {
    "scrolled": true
   },
   "outputs": [
    {
     "data": {
      "text/plain": [
       "<AxesSubplot:xlabel='family_history', ylabel='count'>"
      ]
     },
     "execution_count": 74,
     "metadata": {},
     "output_type": "execute_result"
    },
    {
     "data": {
      "image/png": "[encoded data removed]",
      "text/plain": [
       "<Figure size 432x288 with 1 Axes>"
      ]
     },
     "metadata": {
      "needs_background": "light"
     },
     "output_type": "display_data"
    }
   ],
   "source": [
    "sns.countplot(data = MH, x = 'family_history', hue = 'treatment')"
   ]
  },
  {
   "cell_type": "code",
   "execution_count": null,
   "metadata": {},
   "outputs": [],
   "source": [
    "# if we help our employees, we help their families as well.\n",
    "# so, our help is long lived."
   ]
  },
  {
   "cell_type": "markdown",
   "metadata": {
    "id": "xOL03w-i9aH4"
   },
   "source": [
    "**Observation:**\n",
    "\n",
    "- We can observe that **employees** who have **family history** are very much **likely** to **go for treatment**."
   ]
  },
  {
   "cell_type": "markdown",
   "metadata": {},
   "source": [
    "---"
   ]
  },
  {
   "cell_type": "markdown",
   "metadata": {
    "id": "R17ZgxmO94lM"
   },
   "source": [
    "<a name = Section67></a>\n",
    "**<h4>Question:** What is the association between treatment and employee count in a company?</h4>"
   ]
  },
  {
   "cell_type": "code",
   "execution_count": 75,
   "metadata": {},
   "outputs": [
    {
     "data": {
      "text/plain": [
       "Index(['Timestamp', 'Age', 'Gender', 'Country', 'state', 'self_employed',\n",
       "       'family_history', 'treatment', 'work_interfere', 'no_employees',\n",
       "       'remote_work', 'tech_company', 'benefits', 'care_options',\n",
       "       'wellness_program', 'seek_help', 'anonymity', 'leave',\n",
       "       'mental_health_consequence', 'phys_health_consequence', 'coworkers',\n",
       "       'supervisor', 'mental_health_interview', 'phys_health_interview',\n",
       "       'mental_vs_physical', 'obs_consequence'],\n",
       "      dtype='object')"
      ]
     },
     "execution_count": 75,
     "metadata": {},
     "output_type": "execute_result"
    }
   ],
   "source": [
    "MH.columns"
   ]
  },
  {
   "cell_type": "code",
   "execution_count": null,
   "metadata": {},
   "outputs": [],
   "source": [
    "'''\n",
    "Rel - YES\n",
    "Res - YES\n",
    "nVague - YES\n",
    "\n",
    "Variate -  BI\n",
    "\n",
    "\n",
    "'no_employees' - CAT\n",
    "'treatment' - CAT\n",
    "\n",
    "'''"
   ]
  },
  {
   "cell_type": "code",
   "execution_count": 78,
   "metadata": {},
   "outputs": [
    {
     "data": {
      "text/plain": [
       "array(['6-25', 'More than 1000', '26-100', '100-500', '1-5', '500-1000'],\n",
       "      dtype=object)"
      ]
     },
     "execution_count": 78,
     "metadata": {},
     "output_type": "execute_result"
    }
   ],
   "source": [
    "MH['no_employees'].unique()"
   ]
  },
  {
   "cell_type": "code",
   "execution_count": 82,
   "metadata": {},
   "outputs": [],
   "source": [
    "my_list = ['1-5','6-25','26-100','100-500','500-1000','More than 1000']\n",
    "\n",
    "MH['company_size'] = MH['no_employees'].replace(my_list, [1,2,3,4,5,6])"
   ]
  },
  {
   "cell_type": "code",
   "execution_count": 83,
   "metadata": {},
   "outputs": [
    {
     "data": {
      "text/plain": [
       "2    290\n",
       "3    289\n",
       "6    282\n",
       "4    176\n",
       "1    160\n",
       "5     60\n",
       "Name: company_size, dtype: int64"
      ]
     },
     "execution_count": 83,
     "metadata": {},
     "output_type": "execute_result"
    }
   ],
   "source": [
    "MH['company_size'].value_counts()"
   ]
  },
  {
   "cell_type": "code",
   "execution_count": 84,
   "metadata": {},
   "outputs": [
    {
     "data": {
      "text/plain": [
       "<AxesSubplot:xlabel='company_size', ylabel='count'>"
      ]
     },
     "execution_count": 84,
     "metadata": {},
     "output_type": "execute_result"
    },
    {
     "data": {
      "image/png": "[encoded data removed]",
      "text/plain": [
       "<Figure size 1080x504 with 1 Axes>"
      ]
     },
     "metadata": {
      "needs_background": "light"
     },
     "output_type": "display_data"
    }
   ],
   "source": [
    "paper = plt.figure(figsize = [15,7])\n",
    "sns.countplot(data = MH, x = 'company_size', hue = 'treatment')\n",
    "\n"
   ]
  },
  {
   "cell_type": "markdown",
   "metadata": {
    "id": "AfG956R9-fs6"
   },
   "source": [
    "**Observation:**\n",
    "\n",
    "- The **maximum** number of **people** **gone for treatment** belongs to the **company size 26-100**.\n",
    "\n",
    "- On the other hand, those who **haven't gone** for treatment belongs to **company size 6-25**."
   ]
  },
  {
   "cell_type": "markdown",
   "metadata": {},
   "source": [
    "----"
   ]
  },
  {
   "cell_type": "markdown",
   "metadata": {
    "id": "-x6R9pxYkXpt"
   },
   "source": [
    "<a name = Section68></a>\n",
    "**<h4>Question:** Which countries in common have contributed the most in terms of mental health?</h4>"
   ]
  },
  {
   "cell_type": "code",
   "execution_count": 85,
   "metadata": {},
   "outputs": [
    {
     "data": {
      "text/plain": [
       "Index(['Timestamp', 'Age', 'Gender', 'Country', 'state', 'self_employed',\n",
       "       'family_history', 'treatment', 'work_interfere', 'no_employees',\n",
       "       'remote_work', 'tech_company', 'benefits', 'care_options',\n",
       "       'wellness_program', 'seek_help', 'anonymity', 'leave',\n",
       "       'mental_health_consequence', 'phys_health_consequence', 'coworkers',\n",
       "       'supervisor', 'mental_health_interview', 'phys_health_interview',\n",
       "       'mental_vs_physical', 'obs_consequence', 'company_size'],\n",
       "      dtype='object')"
      ]
     },
     "execution_count": 85,
     "metadata": {},
     "output_type": "execute_result"
    }
   ],
   "source": [
    "MH.columns"
   ]
  },
  {
   "cell_type": "code",
   "execution_count": null,
   "metadata": {},
   "outputs": [],
   "source": [
    "'''\n",
    "Q - In our survey, people from which country participated in most number?\n",
    "\n",
    "Rel - YES\n",
    "Res - YES\n",
    "nVague - YES\n",
    "\n",
    "Variate -  UNI\n",
    "\n",
    "'Country' - CAT\n",
    "\n",
    "'''"
   ]
  },
  {
   "cell_type": "code",
   "execution_count": 90,
   "metadata": {},
   "outputs": [
    {
     "data": {
      "text/plain": [
       "<AxesSubplot:>"
      ]
     },
     "execution_count": 90,
     "metadata": {},
     "output_type": "execute_result"
    },
    {
     "data": {
      "image/png": "[encoded data removed]",
      "text/plain": [
       "<Figure size 144x504 with 1 Axes>"
      ]
     },
     "metadata": {
      "needs_background": "light"
     },
     "output_type": "display_data"
    }
   ],
   "source": [
    "paper = plt.figure(figsize = [2,7])\n",
    "MH['Country'].value_counts()[:3].plot.bar()"
   ]
  },
  {
   "cell_type": "code",
   "execution_count": 89,
   "metadata": {},
   "outputs": [
    {
     "data": {
      "text/plain": [
       "<AxesSubplot:>"
      ]
     },
     "execution_count": 89,
     "metadata": {},
     "output_type": "execute_result"
    },
    {
     "data": {
      "image/png": "[encoded data removed]",
      "text/plain": [
       "<Figure size 1080x504 with 1 Axes>"
      ]
     },
     "metadata": {
      "needs_background": "light"
     },
     "output_type": "display_data"
    }
   ],
   "source": [
    "paper = plt.figure(figsize = [15,7])\n",
    "MH['Country'].value_counts()[3:].plot.bar()"
   ]
  },
  {
   "cell_type": "markdown",
   "metadata": {
    "id": "9N19_nzEmVOx"
   },
   "source": [
    "**Observation:**\n",
    "\n",
    "- We can observe that **US contributed the most** with **751 respondents** and now further exploring the states of US."
   ]
  },
  {
   "cell_type": "markdown",
   "metadata": {},
   "source": [
    "---"
   ]
  },
  {
   "cell_type": "markdown",
   "metadata": {
    "id": "0424HJBjmfDV"
   },
   "source": [
    "<a name = Section69></a>\n",
    "**<h4>Question:** Which states contributed the most in the US in terms of mental health?</h4>"
   ]
  },
  {
   "cell_type": "code",
   "execution_count": null,
   "metadata": {},
   "outputs": [],
   "source": [
    "'''\n",
    "Q - In our survey, people from which state in US participated in most number?\n",
    "\n",
    "Rel - YES\n",
    "Res - YES\n",
    "nVague - YES\n",
    "\n",
    "Variate -  BI*\n",
    "*one of the variable is just a filter\n",
    "\n",
    "'Country' == 'United States'\n",
    "'state'\n",
    "\n",
    "'''"
   ]
  },
  {
   "cell_type": "code",
   "execution_count": 91,
   "metadata": {},
   "outputs": [
    {
     "data": {
      "text/plain": [
       "<AxesSubplot:>"
      ]
     },
     "execution_count": 91,
     "metadata": {},
     "output_type": "execute_result"
    },
    {
     "data": {
      "image/png": "[encoded data removed]",
      "text/plain": [
       "<Figure size 1080x504 with 1 Axes>"
      ]
     },
     "metadata": {
      "needs_background": "light"
     },
     "output_type": "display_data"
    }
   ],
   "source": [
    "paper = plt.figure(figsize = [15,7])\n",
    "MH[MH['Country']=='United States']['state'].value_counts().plot.bar()"
   ]
  },
  {
   "cell_type": "code",
   "execution_count": null,
   "metadata": {},
   "outputs": [],
   "source": []
  },
  {
   "cell_type": "markdown",
   "metadata": {
    "id": "iGk9Z56Ynx5Y"
   },
   "source": [
    "**Observation:**\n",
    "\n",
    "- **CALIFORNIA** is the state that **contributed** the **most** in the survey with 138 respndents."
   ]
  },
  {
   "cell_type": "markdown",
   "metadata": {},
   "source": [
    "---"
   ]
  },
  {
   "cell_type": "markdown",
   "metadata": {
    "id": "oPwWwG8Xn4D-"
   },
   "source": [
    "<a name = Section610></a>\n",
    "**<h4>Question:** What is the contribution of top 3 countries among all in terms of mental health?</h4>"
   ]
  },
  {
   "cell_type": "code",
   "execution_count": 92,
   "metadata": {},
   "outputs": [
    {
     "data": {
      "text/plain": [
       "United States     750\n",
       "United Kingdom    185\n",
       "Canada             72\n",
       "Name: Country, dtype: int64"
      ]
     },
     "execution_count": 92,
     "metadata": {},
     "output_type": "execute_result"
    }
   ],
   "source": [
    "MH['Country'].value_counts()[:3]"
   ]
  },
  {
   "cell_type": "code",
   "execution_count": 93,
   "metadata": {},
   "outputs": [],
   "source": [
    "top3 = MH[MH['Country'].isin(MH['Country'].value_counts()[:3].index)]"
   ]
  },
  {
   "cell_type": "code",
   "execution_count": 94,
   "metadata": {},
   "outputs": [
    {
     "data": {
      "text/plain": [
       "(1007, 27)"
      ]
     },
     "execution_count": 94,
     "metadata": {},
     "output_type": "execute_result"
    }
   ],
   "source": [
    "top3.shape"
   ]
  },
  {
   "cell_type": "markdown",
   "metadata": {},
   "source": [
    "---"
   ]
  },
  {
   "cell_type": "markdown",
   "metadata": {
    "id": "_RgUmzXRpnnI"
   },
   "source": [
    "<a name = Section611></a>\n",
    "**<h4>Question:** What is the frequency distribution of work interference among employees for the top 3 countries?</h4>"
   ]
  },
  {
   "cell_type": "code",
   "execution_count": 96,
   "metadata": {},
   "outputs": [
    {
     "data": {
      "text/plain": [
       "Index(['Timestamp', 'Age', 'Gender', 'Country', 'state', 'self_employed',\n",
       "       'family_history', 'treatment', 'work_interfere', 'no_employees',\n",
       "       'remote_work', 'tech_company', 'benefits', 'care_options',\n",
       "       'wellness_program', 'seek_help', 'anonymity', 'leave',\n",
       "       'mental_health_consequence', 'phys_health_consequence', 'coworkers',\n",
       "       'supervisor', 'mental_health_interview', 'phys_health_interview',\n",
       "       'mental_vs_physical', 'obs_consequence', 'company_size'],\n",
       "      dtype='object')"
      ]
     },
     "execution_count": 96,
     "metadata": {},
     "output_type": "execute_result"
    }
   ],
   "source": [
    "MH.columns"
   ]
  },
  {
   "cell_type": "code",
   "execution_count": null,
   "metadata": {},
   "outputs": [],
   "source": [
    "'''\n",
    "\n",
    "Rel - YES\n",
    "Res - YES\n",
    "nVague - YES\n",
    "\n",
    "Variate -  BI*\n",
    "*one of the variable is just a filter\n",
    "\n",
    "'Country' == ['United States', 'UK', 'Canada'] - top3\n",
    "'work_interfere' - CAT\n",
    "\n",
    "'''"
   ]
  },
  {
   "cell_type": "code",
   "execution_count": 97,
   "metadata": {},
   "outputs": [
    {
     "data": {
      "text/plain": [
       "<AxesSubplot:>"
      ]
     },
     "execution_count": 97,
     "metadata": {},
     "output_type": "execute_result"
    },
    {
     "data": {
      "image/png": "[encoded data removed]",
      "text/plain": [
       "<Figure size 432x288 with 1 Axes>"
      ]
     },
     "metadata": {
      "needs_background": "light"
     },
     "output_type": "display_data"
    }
   ],
   "source": [
    "top3['work_interfere'].value_counts().plot.bar()"
   ]
  },
  {
   "cell_type": "markdown",
   "metadata": {},
   "source": [
    "---"
   ]
  },
  {
   "cell_type": "markdown",
   "metadata": {
    "id": "l_Tg2fJKsBVD"
   },
   "source": [
    "<a name = Section612></a>\n",
    "**<h4>Question:** What is the total number of employees going for treatment from the top 3 countries?</h4>"
   ]
  },
  {
   "cell_type": "code",
   "execution_count": 99,
   "metadata": {},
   "outputs": [
    {
     "data": {
      "text/plain": [
       "<AxesSubplot:>"
      ]
     },
     "execution_count": 99,
     "metadata": {},
     "output_type": "execute_result"
    },
    {
     "data": {
      "image/png": "[encoded data removed]",
      "text/plain": [
       "<Figure size 432x288 with 1 Axes>"
      ]
     },
     "metadata": {
      "needs_background": "light"
     },
     "output_type": "display_data"
    }
   ],
   "source": [
    "top3['treatment'].value_counts().plot.bar()"
   ]
  },
  {
   "cell_type": "code",
   "execution_count": 100,
   "metadata": {
    "scrolled": true
   },
   "outputs": [
    {
     "data": {
      "text/plain": [
       "<AxesSubplot:xlabel='Country', ylabel='count'>"
      ]
     },
     "execution_count": 100,
     "metadata": {},
     "output_type": "execute_result"
    },
    {
     "data": {
      "image/png": "[encoded data removed]",
      "text/plain": [
       "<Figure size 432x288 with 1 Axes>"
      ]
     },
     "metadata": {
      "needs_background": "light"
     },
     "output_type": "display_data"
    }
   ],
   "source": [
    "sns.countplot(data = top3, x = 'Country', hue = 'treatment')"
   ]
  },
  {
   "cell_type": "markdown",
   "metadata": {},
   "source": [
    "---"
   ]
  },
  {
   "cell_type": "markdown",
   "metadata": {
    "id": "cbbccTETselt"
   },
   "source": [
    "<a name = Section613></a>\n",
    "**<h4>Question:** How many people did go for treatment based on gender for the top 3 countries?</h4>"
   ]
  },
  {
   "cell_type": "code",
   "execution_count": 101,
   "metadata": {},
   "outputs": [
    {
     "data": {
      "text/plain": [
       "Text(0.5, 1.0, 'T')"
      ]
     },
     "execution_count": 101,
     "metadata": {},
     "output_type": "execute_result"
    },
    {
     "data": {
      "image/png": "[encoded data removed]",
      "text/plain": [
       "<Figure size 1080x360 with 3 Axes>"
      ]
     },
     "metadata": {},
     "output_type": "display_data"
    }
   ],
   "source": [
    "paper = plt.figure(figsize = [15,5])\n",
    "\n",
    "plt.subplot(1,3,1)\n",
    "top3[top3['Gender']=='M']['treatment'].value_counts().plot.pie(autopct='%3.1f%%')\n",
    "plt.title('M')\n",
    "\n",
    "plt.subplot(1,3,2)\n",
    "top3[top3['Gender']=='F']['treatment'].value_counts().plot.pie(autopct='%3.1f%%')\n",
    "plt.title('F')\n",
    "\n",
    "plt.subplot(1,3,3)\n",
    "top3[top3['Gender']=='T']['treatment'].value_counts().plot.pie(autopct='%3.1f%%')\n",
    "plt.title('T')"
   ]
  },
  {
   "cell_type": "code",
   "execution_count": null,
   "metadata": {},
   "outputs": [],
   "source": []
  },
  {
   "cell_type": "markdown",
   "metadata": {},
   "source": [
    "---"
   ]
  },
  {
   "cell_type": "markdown",
   "metadata": {
    "id": "pybnZakjtPCE"
   },
   "source": [
    "<a name = Section614></a>\n",
    "**<h4>Question:** What is the relationship between mental health consequences and the attitude?</h4>"
   ]
  },
  {
   "cell_type": "code",
   "execution_count": 104,
   "metadata": {
    "collapsed": true
   },
   "outputs": [
    {
     "data": {
      "text/plain": [
       "Timestamp                    1244\n",
       "Age                            45\n",
       "Gender                          3\n",
       "Country                        47\n",
       "state                          91\n",
       "self_employed                   2\n",
       "family_history                  2\n",
       "treatment                       2\n",
       "work_interfere                  4\n",
       "no_employees                    6\n",
       "remote_work                     2\n",
       "tech_company                    2\n",
       "benefits                        3\n",
       "care_options                    3\n",
       "wellness_program                3\n",
       "seek_help                       3\n",
       "anonymity                       3\n",
       "leave                           5\n",
       "mental_health_consequence       3\n",
       "phys_health_consequence         3\n",
       "coworkers                       3\n",
       "supervisor                      3\n",
       "mental_health_interview         3\n",
       "phys_health_interview           3\n",
       "mental_vs_physical              3\n",
       "obs_consequence                 2\n",
       "company_size                    6\n",
       "dtype: int64"
      ]
     },
     "execution_count": 104,
     "metadata": {},
     "output_type": "execute_result"
    }
   ],
   "source": [
    "MH.nunique()"
   ]
  },
  {
   "cell_type": "code",
   "execution_count": 107,
   "metadata": {
    "id": "1t6p2Zb_34wi"
   },
   "outputs": [],
   "source": [
    "def attitude(x):\n",
    "    \"\"\"\n",
    "    A custom function to map values in a feature.\n",
    "    \"\"\"\n",
    "    if x == 'No':\n",
    "        return 'Positive'\n",
    "    elif x == 'Yes':\n",
    "        return 'Negative'\n",
    "    elif x == 'Maybe':\n",
    "        return 'Moderate'\n",
    "    else:\n",
    "        return x"
   ]
  },
  {
   "cell_type": "code",
   "execution_count": 109,
   "metadata": {},
   "outputs": [],
   "source": [
    "MH['attitude'] = MH['seek_help'].apply(attitude)"
   ]
  },
  {
   "cell_type": "code",
   "execution_count": null,
   "metadata": {},
   "outputs": [],
   "source": [
    "'''\n",
    "\n",
    "Rel - YES\n",
    "Res - YES\n",
    "nVague - YES\n",
    "\n",
    "Variate -  BI\n",
    "\n",
    "'attitude' - CAT\n",
    "'mental_health_consequence' - CAT\n",
    "\n",
    "'''"
   ]
  },
  {
   "cell_type": "code",
   "execution_count": 111,
   "metadata": {},
   "outputs": [
    {
     "data": {
      "text/plain": [
       "<AxesSubplot:xlabel='mental_health_consequence', ylabel='count'>"
      ]
     },
     "execution_count": 111,
     "metadata": {},
     "output_type": "execute_result"
    },
    {
     "data": {
      "image/png": "[encoded data removed]",
      "text/plain": [
       "<Figure size 432x288 with 1 Axes>"
      ]
     },
     "metadata": {
      "needs_background": "light"
     },
     "output_type": "display_data"
    }
   ],
   "source": [
    "sns.countplot(data = MH, x = 'mental_health_consequence', hue = 'attitude')"
   ]
  },
  {
   "cell_type": "code",
   "execution_count": null,
   "metadata": {},
   "outputs": [],
   "source": []
  },
  {
   "cell_type": "code",
   "execution_count": null,
   "metadata": {},
   "outputs": [],
   "source": []
  },
  {
   "cell_type": "code",
   "execution_count": null,
   "metadata": {},
   "outputs": [],
   "source": []
  },
  {
   "cell_type": "code",
   "execution_count": null,
   "metadata": {},
   "outputs": [],
   "source": []
  },
  {
   "cell_type": "code",
   "execution_count": null,
   "metadata": {},
   "outputs": [],
   "source": []
  },
  {
   "cell_type": "markdown",
   "metadata": {
    "id": "hAOGfGLouDvX"
   },
   "source": [
    "<a name = Section7></a>\n",
    "\n",
    "---\n",
    "# **7. Summarization**\n",
    "---\n",
    "\n",
    "- **<h4>Conclusion</h4>**\n",
    "\n",
    "  - The mental health survey has **helped** us to **understand** the **mental condition of employees** working in tech firms across countries.\n",
    "\n",
    "  - A total of **1259 entries were recorded** during the survey out of which **1007 were recorded** from the **top 3 countries**.\n",
    "\n",
    "  - The **United States leads the chart** in terms of participation in the survey **followed by** the **United Kingdom** and **Canada**.\n",
    "\n",
    "  - From a **state point of view**, **California leads the chart** when run down the analysis.\n",
    "\n",
    "  - **48.1%** of **males**, **70%** of **females**, and **88%** of **trans** were found to have **sought treatment** concerning the overall survey.\n",
    "\n",
    "  - The following set of **parameters** are found to be **affecting mental health** the most and thus requires treatment:\n",
    "    - Age\n",
    "    - Family history,\n",
    "    - Work Interference,\n",
    "    - Number of employees working in a company,\n",
    "\n",
    "\n",
    "-  **<h4>Actionable Insights</h4>**\n",
    "\n",
    "  - There should be an **awareness program** about mental health and its effects.\n",
    "\n",
    "  - Relationship **Managers** **should be supportive** with the right guidance towards their employees.\n",
    "\n",
    "  - Managers should be **unbiased** concerning the work and the employees.\n",
    "\n",
    "  - There should be **appropriate measures** and **support** for the employees suffering from mental health.\n",
    "\n",
    "  - It is **good to give** an **appreciation** at work **regularly**."
   ]
  }
 ],
 "metadata": {
  "colab": {
   "authorship_tag": "ABX9TyNllcejjfVZLXKjv3QccggW",
   "collapsed_sections": [],
   "name": "Case Study 1: Mental Health in Tech Workspace.ipynb",
   "provenance": []
  },
  "kernelspec": {
   "display_name": "Python 3 (ipykernel)",
   "language": "python",
   "name": "python3"
  },
  "language_info": {
   "codemirror_mode": {
    "name": "ipython",
    "version": 3
   },
   "file_extension": ".py",
   "mimetype": "text/x-python",
   "name": "python",
   "nbconvert_exporter": "python",
   "pygments_lexer": "ipython3",
   "version": "3.8.8"
  }
 },
 "nbformat": 4,
 "nbformat_minor": 1
}
